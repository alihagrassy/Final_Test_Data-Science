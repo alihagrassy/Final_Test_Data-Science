{
  "nbformat": 4,
  "nbformat_minor": 0,
  "metadata": {
    "colab": {
      "provenance": [],
      "authorship_tag": "ABX9TyPpUm4a40TTBu3k8ZylbshC",
      "include_colab_link": true
    },
    "kernelspec": {
      "name": "python3",
      "display_name": "Python 3"
    },
    "language_info": {
      "name": "python"
    }
  },
  "cells": [
    {
      "cell_type": "markdown",
      "metadata": {
        "id": "view-in-github",
        "colab_type": "text"
      },
      "source": [
        "<a href=\"https://colab.research.google.com/github/alihagrassy/Final_Test_Data-Science/blob/main/Final_Test.ipynb\" target=\"_parent\"><img src=\"https://colab.research.google.com/assets/colab-badge.svg\" alt=\"Open In Colab\"/></a>"
      ]
    },
    {
      "cell_type": "markdown",
      "source": [
        "**Import The Data**"
      ],
      "metadata": {
        "id": "QFWF4VZfc4Oe"
      }
    },
    {
      "cell_type": "code",
      "execution_count": 1,
      "metadata": {
        "colab": {
          "base_uri": "https://localhost:8080/",
          "height": 487
        },
        "id": "SUcJxv7GVCBT",
        "outputId": "fee8a424-7c4c-4325-80a9-5cc87730ec97"
      },
      "outputs": [
        {
          "output_type": "execute_result",
          "data": {
            "text/plain": [
              "       country article  sales  regular_price  current_price     ratio  \\\n",
              "0      Germany  YN8639     28           5.95           3.95  0.663866   \n",
              "1      Germany  YN8639     28           5.95           3.95  0.663866   \n",
              "2      Germany  YN8639     28           5.95           3.95  0.663866   \n",
              "3      Germany  YN8639     28           5.95           3.95  0.663866   \n",
              "4      Germany  YN8639     28           5.95           3.95  0.663866   \n",
              "...        ...     ...    ...            ...            ...       ...   \n",
              "99995  Germany  PW6278    227          57.95          26.95  0.465056   \n",
              "99996  Germany  PW6278    227          57.95          26.95  0.465056   \n",
              "99997  Germany  PW6278    227          57.95          26.95  0.465056   \n",
              "99998  Germany  PW6278    227          57.95          26.95  0.465056   \n",
              "99999  Germany  PW6278    227          57.95          26.95  0.465056   \n",
              "\n",
              "       retailweek  promo1  promo2  customer_id  ...    style  \\\n",
              "0      2016-03-27       0       0       1003.0  ...     slim   \n",
              "1      2016-03-27       0       0       1003.0  ...  regular   \n",
              "2      2016-03-27       0       0       1003.0  ...  regular   \n",
              "3      2016-03-27       0       0       1003.0  ...  regular   \n",
              "4      2016-03-27       0       0       1003.0  ...  regular   \n",
              "...           ...     ...     ...          ...  ...      ...   \n",
              "99995  2016-06-26       0       0       1489.0  ...     wide   \n",
              "99996  2016-06-26       0       0       1489.0  ...     wide   \n",
              "99997  2016-06-26       0       0       1489.0  ...     wide   \n",
              "99998  2016-06-26       0       0       1489.0  ...     slim   \n",
              "99999  2016-06-26       0       0       1489.0  ...  regular   \n",
              "\n",
              "                     sizes  gender  rgb_r_main_col rgb_g_main_col  \\\n",
              "0      xxs,xs,s,m,l,xl,xxl   women             205            104   \n",
              "1      xxs,xs,s,m,l,xl,xxl   women             188            238   \n",
              "2      xxs,xs,s,m,l,xl,xxl   women             205            173   \n",
              "3      xxs,xs,s,m,l,xl,xxl    kids             205            140   \n",
              "4      xxs,xs,s,m,l,xl,xxl   women             138             43   \n",
              "...                    ...     ...             ...            ...   \n",
              "99995  xxs,xs,s,m,l,xl,xxl   women              79            148   \n",
              "99996          xs,s,m,l,xl  unisex             139             26   \n",
              "99997  xxs,xs,s,m,l,xl,xxl   women             135            206   \n",
              "99998  xxs,xs,s,m,l,xl,xxl   women             181            181   \n",
              "99999  xxs,xs,s,m,l,xl,xxl     men             139            137   \n",
              "\n",
              "      rgb_b_main_col rgb_r_sec_col  rgb_g_sec_col  rgb_b_sec_col  label  \n",
              "0                 57           255            187            255      0  \n",
              "1                104           255            187            255      0  \n",
              "2                  0           255            187            255      0  \n",
              "3                149           164            211            238      0  \n",
              "4                226           164            211            238      0  \n",
              "...              ...           ...            ...            ...    ...  \n",
              "99995            205           164            211            238      0  \n",
              "99996             26           205            155            155      0  \n",
              "99997            250           205            155            155      0  \n",
              "99998            181           205            155            155      0  \n",
              "99999            137           205            155            155      0  \n",
              "\n",
              "[100000 rows x 24 columns]"
            ],
            "text/html": [
              "\n",
              "  <div id=\"df-d42d1a21-5c09-4706-995e-52e4d3ef8fa7\">\n",
              "    <div class=\"colab-df-container\">\n",
              "      <div>\n",
              "<style scoped>\n",
              "    .dataframe tbody tr th:only-of-type {\n",
              "        vertical-align: middle;\n",
              "    }\n",
              "\n",
              "    .dataframe tbody tr th {\n",
              "        vertical-align: top;\n",
              "    }\n",
              "\n",
              "    .dataframe thead th {\n",
              "        text-align: right;\n",
              "    }\n",
              "</style>\n",
              "<table border=\"1\" class=\"dataframe\">\n",
              "  <thead>\n",
              "    <tr style=\"text-align: right;\">\n",
              "      <th></th>\n",
              "      <th>country</th>\n",
              "      <th>article</th>\n",
              "      <th>sales</th>\n",
              "      <th>regular_price</th>\n",
              "      <th>current_price</th>\n",
              "      <th>ratio</th>\n",
              "      <th>retailweek</th>\n",
              "      <th>promo1</th>\n",
              "      <th>promo2</th>\n",
              "      <th>customer_id</th>\n",
              "      <th>...</th>\n",
              "      <th>style</th>\n",
              "      <th>sizes</th>\n",
              "      <th>gender</th>\n",
              "      <th>rgb_r_main_col</th>\n",
              "      <th>rgb_g_main_col</th>\n",
              "      <th>rgb_b_main_col</th>\n",
              "      <th>rgb_r_sec_col</th>\n",
              "      <th>rgb_g_sec_col</th>\n",
              "      <th>rgb_b_sec_col</th>\n",
              "      <th>label</th>\n",
              "    </tr>\n",
              "  </thead>\n",
              "  <tbody>\n",
              "    <tr>\n",
              "      <th>0</th>\n",
              "      <td>Germany</td>\n",
              "      <td>YN8639</td>\n",
              "      <td>28</td>\n",
              "      <td>5.95</td>\n",
              "      <td>3.95</td>\n",
              "      <td>0.663866</td>\n",
              "      <td>2016-03-27</td>\n",
              "      <td>0</td>\n",
              "      <td>0</td>\n",
              "      <td>1003.0</td>\n",
              "      <td>...</td>\n",
              "      <td>slim</td>\n",
              "      <td>xxs,xs,s,m,l,xl,xxl</td>\n",
              "      <td>women</td>\n",
              "      <td>205</td>\n",
              "      <td>104</td>\n",
              "      <td>57</td>\n",
              "      <td>255</td>\n",
              "      <td>187</td>\n",
              "      <td>255</td>\n",
              "      <td>0</td>\n",
              "    </tr>\n",
              "    <tr>\n",
              "      <th>1</th>\n",
              "      <td>Germany</td>\n",
              "      <td>YN8639</td>\n",
              "      <td>28</td>\n",
              "      <td>5.95</td>\n",
              "      <td>3.95</td>\n",
              "      <td>0.663866</td>\n",
              "      <td>2016-03-27</td>\n",
              "      <td>0</td>\n",
              "      <td>0</td>\n",
              "      <td>1003.0</td>\n",
              "      <td>...</td>\n",
              "      <td>regular</td>\n",
              "      <td>xxs,xs,s,m,l,xl,xxl</td>\n",
              "      <td>women</td>\n",
              "      <td>188</td>\n",
              "      <td>238</td>\n",
              "      <td>104</td>\n",
              "      <td>255</td>\n",
              "      <td>187</td>\n",
              "      <td>255</td>\n",
              "      <td>0</td>\n",
              "    </tr>\n",
              "    <tr>\n",
              "      <th>2</th>\n",
              "      <td>Germany</td>\n",
              "      <td>YN8639</td>\n",
              "      <td>28</td>\n",
              "      <td>5.95</td>\n",
              "      <td>3.95</td>\n",
              "      <td>0.663866</td>\n",
              "      <td>2016-03-27</td>\n",
              "      <td>0</td>\n",
              "      <td>0</td>\n",
              "      <td>1003.0</td>\n",
              "      <td>...</td>\n",
              "      <td>regular</td>\n",
              "      <td>xxs,xs,s,m,l,xl,xxl</td>\n",
              "      <td>women</td>\n",
              "      <td>205</td>\n",
              "      <td>173</td>\n",
              "      <td>0</td>\n",
              "      <td>255</td>\n",
              "      <td>187</td>\n",
              "      <td>255</td>\n",
              "      <td>0</td>\n",
              "    </tr>\n",
              "    <tr>\n",
              "      <th>3</th>\n",
              "      <td>Germany</td>\n",
              "      <td>YN8639</td>\n",
              "      <td>28</td>\n",
              "      <td>5.95</td>\n",
              "      <td>3.95</td>\n",
              "      <td>0.663866</td>\n",
              "      <td>2016-03-27</td>\n",
              "      <td>0</td>\n",
              "      <td>0</td>\n",
              "      <td>1003.0</td>\n",
              "      <td>...</td>\n",
              "      <td>regular</td>\n",
              "      <td>xxs,xs,s,m,l,xl,xxl</td>\n",
              "      <td>kids</td>\n",
              "      <td>205</td>\n",
              "      <td>140</td>\n",
              "      <td>149</td>\n",
              "      <td>164</td>\n",
              "      <td>211</td>\n",
              "      <td>238</td>\n",
              "      <td>0</td>\n",
              "    </tr>\n",
              "    <tr>\n",
              "      <th>4</th>\n",
              "      <td>Germany</td>\n",
              "      <td>YN8639</td>\n",
              "      <td>28</td>\n",
              "      <td>5.95</td>\n",
              "      <td>3.95</td>\n",
              "      <td>0.663866</td>\n",
              "      <td>2016-03-27</td>\n",
              "      <td>0</td>\n",
              "      <td>0</td>\n",
              "      <td>1003.0</td>\n",
              "      <td>...</td>\n",
              "      <td>regular</td>\n",
              "      <td>xxs,xs,s,m,l,xl,xxl</td>\n",
              "      <td>women</td>\n",
              "      <td>138</td>\n",
              "      <td>43</td>\n",
              "      <td>226</td>\n",
              "      <td>164</td>\n",
              "      <td>211</td>\n",
              "      <td>238</td>\n",
              "      <td>0</td>\n",
              "    </tr>\n",
              "    <tr>\n",
              "      <th>...</th>\n",
              "      <td>...</td>\n",
              "      <td>...</td>\n",
              "      <td>...</td>\n",
              "      <td>...</td>\n",
              "      <td>...</td>\n",
              "      <td>...</td>\n",
              "      <td>...</td>\n",
              "      <td>...</td>\n",
              "      <td>...</td>\n",
              "      <td>...</td>\n",
              "      <td>...</td>\n",
              "      <td>...</td>\n",
              "      <td>...</td>\n",
              "      <td>...</td>\n",
              "      <td>...</td>\n",
              "      <td>...</td>\n",
              "      <td>...</td>\n",
              "      <td>...</td>\n",
              "      <td>...</td>\n",
              "      <td>...</td>\n",
              "      <td>...</td>\n",
              "    </tr>\n",
              "    <tr>\n",
              "      <th>99995</th>\n",
              "      <td>Germany</td>\n",
              "      <td>PW6278</td>\n",
              "      <td>227</td>\n",
              "      <td>57.95</td>\n",
              "      <td>26.95</td>\n",
              "      <td>0.465056</td>\n",
              "      <td>2016-06-26</td>\n",
              "      <td>0</td>\n",
              "      <td>0</td>\n",
              "      <td>1489.0</td>\n",
              "      <td>...</td>\n",
              "      <td>wide</td>\n",
              "      <td>xxs,xs,s,m,l,xl,xxl</td>\n",
              "      <td>women</td>\n",
              "      <td>79</td>\n",
              "      <td>148</td>\n",
              "      <td>205</td>\n",
              "      <td>164</td>\n",
              "      <td>211</td>\n",
              "      <td>238</td>\n",
              "      <td>0</td>\n",
              "    </tr>\n",
              "    <tr>\n",
              "      <th>99996</th>\n",
              "      <td>Germany</td>\n",
              "      <td>PW6278</td>\n",
              "      <td>227</td>\n",
              "      <td>57.95</td>\n",
              "      <td>26.95</td>\n",
              "      <td>0.465056</td>\n",
              "      <td>2016-06-26</td>\n",
              "      <td>0</td>\n",
              "      <td>0</td>\n",
              "      <td>1489.0</td>\n",
              "      <td>...</td>\n",
              "      <td>wide</td>\n",
              "      <td>xs,s,m,l,xl</td>\n",
              "      <td>unisex</td>\n",
              "      <td>139</td>\n",
              "      <td>26</td>\n",
              "      <td>26</td>\n",
              "      <td>205</td>\n",
              "      <td>155</td>\n",
              "      <td>155</td>\n",
              "      <td>0</td>\n",
              "    </tr>\n",
              "    <tr>\n",
              "      <th>99997</th>\n",
              "      <td>Germany</td>\n",
              "      <td>PW6278</td>\n",
              "      <td>227</td>\n",
              "      <td>57.95</td>\n",
              "      <td>26.95</td>\n",
              "      <td>0.465056</td>\n",
              "      <td>2016-06-26</td>\n",
              "      <td>0</td>\n",
              "      <td>0</td>\n",
              "      <td>1489.0</td>\n",
              "      <td>...</td>\n",
              "      <td>wide</td>\n",
              "      <td>xxs,xs,s,m,l,xl,xxl</td>\n",
              "      <td>women</td>\n",
              "      <td>135</td>\n",
              "      <td>206</td>\n",
              "      <td>250</td>\n",
              "      <td>205</td>\n",
              "      <td>155</td>\n",
              "      <td>155</td>\n",
              "      <td>0</td>\n",
              "    </tr>\n",
              "    <tr>\n",
              "      <th>99998</th>\n",
              "      <td>Germany</td>\n",
              "      <td>PW6278</td>\n",
              "      <td>227</td>\n",
              "      <td>57.95</td>\n",
              "      <td>26.95</td>\n",
              "      <td>0.465056</td>\n",
              "      <td>2016-06-26</td>\n",
              "      <td>0</td>\n",
              "      <td>0</td>\n",
              "      <td>1489.0</td>\n",
              "      <td>...</td>\n",
              "      <td>slim</td>\n",
              "      <td>xxs,xs,s,m,l,xl,xxl</td>\n",
              "      <td>women</td>\n",
              "      <td>181</td>\n",
              "      <td>181</td>\n",
              "      <td>181</td>\n",
              "      <td>205</td>\n",
              "      <td>155</td>\n",
              "      <td>155</td>\n",
              "      <td>0</td>\n",
              "    </tr>\n",
              "    <tr>\n",
              "      <th>99999</th>\n",
              "      <td>Germany</td>\n",
              "      <td>PW6278</td>\n",
              "      <td>227</td>\n",
              "      <td>57.95</td>\n",
              "      <td>26.95</td>\n",
              "      <td>0.465056</td>\n",
              "      <td>2016-06-26</td>\n",
              "      <td>0</td>\n",
              "      <td>0</td>\n",
              "      <td>1489.0</td>\n",
              "      <td>...</td>\n",
              "      <td>regular</td>\n",
              "      <td>xxs,xs,s,m,l,xl,xxl</td>\n",
              "      <td>men</td>\n",
              "      <td>139</td>\n",
              "      <td>137</td>\n",
              "      <td>137</td>\n",
              "      <td>205</td>\n",
              "      <td>155</td>\n",
              "      <td>155</td>\n",
              "      <td>0</td>\n",
              "    </tr>\n",
              "  </tbody>\n",
              "</table>\n",
              "<p>100000 rows × 24 columns</p>\n",
              "</div>\n",
              "      <button class=\"colab-df-convert\" onclick=\"convertToInteractive('df-d42d1a21-5c09-4706-995e-52e4d3ef8fa7')\"\n",
              "              title=\"Convert this dataframe to an interactive table.\"\n",
              "              style=\"display:none;\">\n",
              "        \n",
              "  <svg xmlns=\"http://www.w3.org/2000/svg\" height=\"24px\"viewBox=\"0 0 24 24\"\n",
              "       width=\"24px\">\n",
              "    <path d=\"M0 0h24v24H0V0z\" fill=\"none\"/>\n",
              "    <path d=\"M18.56 5.44l.94 2.06.94-2.06 2.06-.94-2.06-.94-.94-2.06-.94 2.06-2.06.94zm-11 1L8.5 8.5l.94-2.06 2.06-.94-2.06-.94L8.5 2.5l-.94 2.06-2.06.94zm10 10l.94 2.06.94-2.06 2.06-.94-2.06-.94-.94-2.06-.94 2.06-2.06.94z\"/><path d=\"M17.41 7.96l-1.37-1.37c-.4-.4-.92-.59-1.43-.59-.52 0-1.04.2-1.43.59L10.3 9.45l-7.72 7.72c-.78.78-.78 2.05 0 2.83L4 21.41c.39.39.9.59 1.41.59.51 0 1.02-.2 1.41-.59l7.78-7.78 2.81-2.81c.8-.78.8-2.07 0-2.86zM5.41 20L4 18.59l7.72-7.72 1.47 1.35L5.41 20z\"/>\n",
              "  </svg>\n",
              "      </button>\n",
              "      \n",
              "  <style>\n",
              "    .colab-df-container {\n",
              "      display:flex;\n",
              "      flex-wrap:wrap;\n",
              "      gap: 12px;\n",
              "    }\n",
              "\n",
              "    .colab-df-convert {\n",
              "      background-color: #E8F0FE;\n",
              "      border: none;\n",
              "      border-radius: 50%;\n",
              "      cursor: pointer;\n",
              "      display: none;\n",
              "      fill: #1967D2;\n",
              "      height: 32px;\n",
              "      padding: 0 0 0 0;\n",
              "      width: 32px;\n",
              "    }\n",
              "\n",
              "    .colab-df-convert:hover {\n",
              "      background-color: #E2EBFA;\n",
              "      box-shadow: 0px 1px 2px rgba(60, 64, 67, 0.3), 0px 1px 3px 1px rgba(60, 64, 67, 0.15);\n",
              "      fill: #174EA6;\n",
              "    }\n",
              "\n",
              "    [theme=dark] .colab-df-convert {\n",
              "      background-color: #3B4455;\n",
              "      fill: #D2E3FC;\n",
              "    }\n",
              "\n",
              "    [theme=dark] .colab-df-convert:hover {\n",
              "      background-color: #434B5C;\n",
              "      box-shadow: 0px 1px 3px 1px rgba(0, 0, 0, 0.15);\n",
              "      filter: drop-shadow(0px 1px 2px rgba(0, 0, 0, 0.3));\n",
              "      fill: #FFFFFF;\n",
              "    }\n",
              "  </style>\n",
              "\n",
              "      <script>\n",
              "        const buttonEl =\n",
              "          document.querySelector('#df-d42d1a21-5c09-4706-995e-52e4d3ef8fa7 button.colab-df-convert');\n",
              "        buttonEl.style.display =\n",
              "          google.colab.kernel.accessAllowed ? 'block' : 'none';\n",
              "\n",
              "        async function convertToInteractive(key) {\n",
              "          const element = document.querySelector('#df-d42d1a21-5c09-4706-995e-52e4d3ef8fa7');\n",
              "          const dataTable =\n",
              "            await google.colab.kernel.invokeFunction('convertToInteractive',\n",
              "                                                     [key], {});\n",
              "          if (!dataTable) return;\n",
              "\n",
              "          const docLinkHtml = 'Like what you see? Visit the ' +\n",
              "            '<a target=\"_blank\" href=https://colab.research.google.com/notebooks/data_table.ipynb>data table notebook</a>'\n",
              "            + ' to learn more about interactive tables.';\n",
              "          element.innerHTML = '';\n",
              "          dataTable['output_type'] = 'display_data';\n",
              "          await google.colab.output.renderOutput(dataTable, element);\n",
              "          const docLink = document.createElement('div');\n",
              "          docLink.innerHTML = docLinkHtml;\n",
              "          element.appendChild(docLink);\n",
              "        }\n",
              "      </script>\n",
              "    </div>\n",
              "  </div>\n",
              "  "
            ]
          },
          "metadata": {},
          "execution_count": 1
        }
      ],
      "source": [
        "import pandas as pd \n",
        "df=pd.read_csv('Ali Waleed - full_gen_data.csv')\n",
        "df"
      ]
    },
    {
      "cell_type": "markdown",
      "source": [
        "#Check for duplicates"
      ],
      "metadata": {
        "id": "2MNV0M2kczYY"
      }
    },
    {
      "cell_type": "code",
      "source": [
        "df=df.drop_duplicates()"
      ],
      "metadata": {
        "id": "zzR-ylPQZdc7"
      },
      "execution_count": 2,
      "outputs": []
    },
    {
      "cell_type": "markdown",
      "source": [
        "#plot the coorelection \n"
      ],
      "metadata": {
        "id": "IFI2ioNcc964"
      }
    },
    {
      "cell_type": "code",
      "source": [
        "import matplotlib.pyplot as plt\n",
        "import seaborn as sns\n",
        "fig, ax = plt.subplots(figsize=(10,10))  \n",
        "sns.heatmap(df.corr(),square=True,cbar=True,ax=ax,annot=True,fmt='.2f')"
      ],
      "metadata": {
        "colab": {
          "base_uri": "https://localhost:8080/",
          "height": 631
        },
        "id": "CeVwCM78Zt2I",
        "outputId": "68f6a168-4870-40c1-c184-5d25450ebbfc"
      },
      "execution_count": 5,
      "outputs": [
        {
          "output_type": "execute_result",
          "data": {
            "text/plain": [
              "<Axes: >"
            ]
          },
          "metadata": {},
          "execution_count": 5
        },
        {
          "output_type": "display_data",
          "data": {
            "text/plain": [
              "<Figure size 720x720 with 2 Axes>"
            ],
            "image/png": "[encoded data removed]"
          },
          "metadata": {
            "needs_background": "light"
          }
        }
      ]
    },
    {
      "cell_type": "markdown",
      "source": [
        "#check for missing value\n"
      ],
      "metadata": {
        "id": "53Itg_E9dHSe"
      }
    },
    {
      "cell_type": "code",
      "source": [
        "df.isna().sum()"
      ],
      "metadata": {
        "colab": {
          "base_uri": "https://localhost:8080/"
        },
        "id": "kQl1gKrdZzGU",
        "outputId": "0899c813-ce3a-40fc-97be-c0fcdf3c76dc"
      },
      "execution_count": 6,
      "outputs": [
        {
          "output_type": "execute_result",
          "data": {
            "text/plain": [
              "country           0\n",
              "article           0\n",
              "sales             0\n",
              "regular_price     0\n",
              "current_price     0\n",
              "ratio             0\n",
              "retailweek        0\n",
              "promo1            0\n",
              "promo2            0\n",
              "customer_id       0\n",
              "article.1         0\n",
              "productgroup      0\n",
              "category          0\n",
              "cost              0\n",
              "style             0\n",
              "sizes             0\n",
              "gender            0\n",
              "rgb_r_main_col    0\n",
              "rgb_g_main_col    0\n",
              "rgb_b_main_col    0\n",
              "rgb_r_sec_col     0\n",
              "rgb_g_sec_col     0\n",
              "rgb_b_sec_col     0\n",
              "label             0\n",
              "dtype: int64"
            ]
          },
          "metadata": {},
          "execution_count": 6
        }
      ]
    },
    {
      "cell_type": "code",
      "source": [
        "test=df[['article','article.1']]"
      ],
      "metadata": {
        "id": "Co4-And_xF62"
      },
      "execution_count": 7,
      "outputs": []
    },
    {
      "cell_type": "code",
      "source": [
        "test"
      ],
      "metadata": {
        "colab": {
          "base_uri": "https://localhost:8080/",
          "height": 423
        },
        "id": "uaBu4iilxL7Y",
        "outputId": "e059f945-34c9-436b-de9b-e87a0e5879a3"
      },
      "execution_count": 8,
      "outputs": [
        {
          "output_type": "execute_result",
          "data": {
            "text/plain": [
              "      article article.1\n",
              "0      YN8639    OC6355\n",
              "1      YN8639    AP5568\n",
              "2      YN8639    CB8861\n",
              "3      YN8639    LI3529\n",
              "4      YN8639    GG8661\n",
              "...       ...       ...\n",
              "99995  PW6278    TX1463\n",
              "99996  PW6278    PC6383\n",
              "99997  PW6278    VT7698\n",
              "99998  PW6278    FG2965\n",
              "99999  PW6278    AC7347\n",
              "\n",
              "[100000 rows x 2 columns]"
            ],
            "text/html": [
              "\n",
              "  <div id=\"df-ab6e3928-668b-4a7e-92e2-fbae203d7c98\">\n",
              "    <div class=\"colab-df-container\">\n",
              "      <div>\n",
              "<style scoped>\n",
              "    .dataframe tbody tr th:only-of-type {\n",
              "        vertical-align: middle;\n",
              "    }\n",
              "\n",
              "    .dataframe tbody tr th {\n",
              "        vertical-align: top;\n",
              "    }\n",
              "\n",
              "    .dataframe thead th {\n",
              "        text-align: right;\n",
              "    }\n",
              "</style>\n",
              "<table border=\"1\" class=\"dataframe\">\n",
              "  <thead>\n",
              "    <tr style=\"text-align: right;\">\n",
              "      <th></th>\n",
              "      <th>article</th>\n",
              "      <th>article.1</th>\n",
              "    </tr>\n",
              "  </thead>\n",
              "  <tbody>\n",
              "    <tr>\n",
              "      <th>0</th>\n",
              "      <td>YN8639</td>\n",
              "      <td>OC6355</td>\n",
              "    </tr>\n",
              "    <tr>\n",
              "      <th>1</th>\n",
              "      <td>YN8639</td>\n",
              "      <td>AP5568</td>\n",
              "    </tr>\n",
              "    <tr>\n",
              "      <th>2</th>\n",
              "      <td>YN8639</td>\n",
              "      <td>CB8861</td>\n",
              "    </tr>\n",
              "    <tr>\n",
              "      <th>3</th>\n",
              "      <td>YN8639</td>\n",
              "      <td>LI3529</td>\n",
              "    </tr>\n",
              "    <tr>\n",
              "      <th>4</th>\n",
              "      <td>YN8639</td>\n",
              "      <td>GG8661</td>\n",
              "    </tr>\n",
              "    <tr>\n",
              "      <th>...</th>\n",
              "      <td>...</td>\n",
              "      <td>...</td>\n",
              "    </tr>\n",
              "    <tr>\n",
              "      <th>99995</th>\n",
              "      <td>PW6278</td>\n",
              "      <td>TX1463</td>\n",
              "    </tr>\n",
              "    <tr>\n",
              "      <th>99996</th>\n",
              "      <td>PW6278</td>\n",
              "      <td>PC6383</td>\n",
              "    </tr>\n",
              "    <tr>\n",
              "      <th>99997</th>\n",
              "      <td>PW6278</td>\n",
              "      <td>VT7698</td>\n",
              "    </tr>\n",
              "    <tr>\n",
              "      <th>99998</th>\n",
              "      <td>PW6278</td>\n",
              "      <td>FG2965</td>\n",
              "    </tr>\n",
              "    <tr>\n",
              "      <th>99999</th>\n",
              "      <td>PW6278</td>\n",
              "      <td>AC7347</td>\n",
              "    </tr>\n",
              "  </tbody>\n",
              "</table>\n",
              "<p>100000 rows × 2 columns</p>\n",
              "</div>\n",
              "      <button class=\"colab-df-convert\" onclick=\"convertToInteractive('df-ab6e3928-668b-4a7e-92e2-fbae203d7c98')\"\n",
              "              title=\"Convert this dataframe to an interactive table.\"\n",
              "              style=\"display:none;\">\n",
              "        \n",
              "  <svg xmlns=\"http://www.w3.org/2000/svg\" height=\"24px\"viewBox=\"0 0 24 24\"\n",
              "       width=\"24px\">\n",
              "    <path d=\"M0 0h24v24H0V0z\" fill=\"none\"/>\n",
              "    <path d=\"M18.56 5.44l.94 2.06.94-2.06 2.06-.94-2.06-.94-.94-2.06-.94 2.06-2.06.94zm-11 1L8.5 8.5l.94-2.06 2.06-.94-2.06-.94L8.5 2.5l-.94 2.06-2.06.94zm10 10l.94 2.06.94-2.06 2.06-.94-2.06-.94-.94-2.06-.94 2.06-2.06.94z\"/><path d=\"M17.41 7.96l-1.37-1.37c-.4-.4-.92-.59-1.43-.59-.52 0-1.04.2-1.43.59L10.3 9.45l-7.72 7.72c-.78.78-.78 2.05 0 2.83L4 21.41c.39.39.9.59 1.41.59.51 0 1.02-.2 1.41-.59l7.78-7.78 2.81-2.81c.8-.78.8-2.07 0-2.86zM5.41 20L4 18.59l7.72-7.72 1.47 1.35L5.41 20z\"/>\n",
              "  </svg>\n",
              "      </button>\n",
              "      \n",
              "  <style>\n",
              "    .colab-df-container {\n",
              "      display:flex;\n",
              "      flex-wrap:wrap;\n",
              "      gap: 12px;\n",
              "    }\n",
              "\n",
              "    .colab-df-convert {\n",
              "      background-color: #E8F0FE;\n",
              "      border: none;\n",
              "      border-radius: 50%;\n",
              "      cursor: pointer;\n",
              "      display: none;\n",
              "      fill: #1967D2;\n",
              "      height: 32px;\n",
              "      padding: 0 0 0 0;\n",
              "      width: 32px;\n",
              "    }\n",
              "\n",
              "    .colab-df-convert:hover {\n",
              "      background-color: #E2EBFA;\n",
              "      box-shadow: 0px 1px 2px rgba(60, 64, 67, 0.3), 0px 1px 3px 1px rgba(60, 64, 67, 0.15);\n",
              "      fill: #174EA6;\n",
              "    }\n",
              "\n",
              "    [theme=dark] .colab-df-convert {\n",
              "      background-color: #3B4455;\n",
              "      fill: #D2E3FC;\n",
              "    }\n",
              "\n",
              "    [theme=dark] .colab-df-convert:hover {\n",
              "      background-color: #434B5C;\n",
              "      box-shadow: 0px 1px 3px 1px rgba(0, 0, 0, 0.15);\n",
              "      filter: drop-shadow(0px 1px 2px rgba(0, 0, 0, 0.3));\n",
              "      fill: #FFFFFF;\n",
              "    }\n",
              "  </style>\n",
              "\n",
              "      <script>\n",
              "        const buttonEl =\n",
              "          document.querySelector('#df-ab6e3928-668b-4a7e-92e2-fbae203d7c98 button.colab-df-convert');\n",
              "        buttonEl.style.display =\n",
              "          google.colab.kernel.accessAllowed ? 'block' : 'none';\n",
              "\n",
              "        async function convertToInteractive(key) {\n",
              "          const element = document.querySelector('#df-ab6e3928-668b-4a7e-92e2-fbae203d7c98');\n",
              "          const dataTable =\n",
              "            await google.colab.kernel.invokeFunction('convertToInteractive',\n",
              "                                                     [key], {});\n",
              "          if (!dataTable) return;\n",
              "\n",
              "          const docLinkHtml = 'Like what you see? Visit the ' +\n",
              "            '<a target=\"_blank\" href=https://colab.research.google.com/notebooks/data_table.ipynb>data table notebook</a>'\n",
              "            + ' to learn more about interactive tables.';\n",
              "          element.innerHTML = '';\n",
              "          dataTable['output_type'] = 'display_data';\n",
              "          await google.colab.output.renderOutput(dataTable, element);\n",
              "          const docLink = document.createElement('div');\n",
              "          docLink.innerHTML = docLinkHtml;\n",
              "          element.appendChild(docLink);\n",
              "        }\n",
              "      </script>\n",
              "    </div>\n",
              "  </div>\n",
              "  "
            ]
          },
          "metadata": {},
          "execution_count": 8
        }
      ]
    },
    {
      "cell_type": "markdown",
      "source": [
        "#check for balancing the data\n"
      ],
      "metadata": {
        "id": "uei4VMkqdKbH"
      }
    },
    {
      "cell_type": "code",
      "source": [
        "sns.countplot(x=df['label'],data=df)\n",
        "#data is not balanced "
      ],
      "metadata": {
        "colab": {
          "base_uri": "https://localhost:8080/",
          "height": 296
        },
        "id": "thMvpvhiW46d",
        "outputId": "8e568e73-4f2a-4001-c896-f795f07ac368"
      },
      "execution_count": 9,
      "outputs": [
        {
          "output_type": "execute_result",
          "data": {
            "text/plain": [
              "<Axes: xlabel='label', ylabel='count'>"
            ]
          },
          "metadata": {},
          "execution_count": 9
        },
        {
          "output_type": "display_data",
          "data": {
            "text/plain": [
              "<Figure size 432x288 with 1 Axes>"
            ],
            "image/png": "[encoded data removed]"
          },
          "metadata": {
            "needs_background": "light"
          }
        }
      ]
    },
    {
      "cell_type": "code",
      "source": [
        "import matplotlib.pyplot as plt"
      ],
      "metadata": {
        "id": "tZ0jgEs1XWXn"
      },
      "execution_count": 10,
      "outputs": []
    },
    {
      "cell_type": "markdown",
      "source": [
        "#plotting the data\n"
      ],
      "metadata": {
        "id": "e6O7Pdb2d8r2"
      }
    },
    {
      "cell_type": "code",
      "source": [
        "j=1\n",
        "for i in df.columns:\n",
        "  fig, ax = plt.subplots(figsize=(10,10))  \n",
        "  sns.countplot(x=df[i],data=df,ax=ax)\n",
        "  j+=1"
      ],
      "metadata": {
        "colab": {
          "base_uri": "https://localhost:8080/",
          "height": 1000
        },
        "id": "DD2k8OK9WQeo",
        "outputId": "ba8ad247-d6a5-46c1-fcc9-40121081510f"
      },
      "execution_count": 11,
      "outputs": [
        {
          "output_type": "stream",
          "name": "stderr",
          "text": [
            "<ipython-input-11-b4bc482eb5c0>:3: RuntimeWarning: More than 20 figures have been opened. Figures created through the pyplot interface (`matplotlib.pyplot.figure`) are retained until explicitly closed and may consume too much memory. (To control this warning, see the rcParam `figure.max_open_warning`). Consider using `matplotlib.pyplot.close()`.\n",
            "  fig, ax = plt.subplots(figsize=(10,10))\n"
          ]
        },
        {
          "output_type": "display_data",
          "data": {
            "text/plain": [
              "<Figure size 720x720 with 1 Axes>"
            ],
            "image/png": "[encoded data removed]"
          },
          "metadata": {
            "needs_background": "light"
          }
        },
        {
          "output_type": "display_data",
          "data": {
            "text/plain": [
              "<Figure size 720x720 with 1 Axes>"
            ],
            "image/png": "[encoded data removed]"
          },
          "metadata": {
            "needs_background": "light"
          }
        },
        {
          "output_type": "display_data",
          "data": {
            "text/plain": [
              "<Figure size 720x720 with 1 Axes>"
            ],
            "image/png": "[encoded data removed]"
          },
          "metadata": {
            "needs_background": "light"
          }
        },
        {
          "output_type": "display_data",
          "data": {
            "text/plain": [
              "<Figure size 720x720 with 1 Axes>"
            ],
            "image/png": "[encoded data removed]"
          },
          "metadata": {
            "needs_background": "light"
          }
        },
        {
          "output_type": "display_data",
          "data": {
            "text/plain": [
              "<Figure size 720x720 with 1 Axes>"
            ],
            "image/png": "[encoded data removed]"
          },
          "metadata": {
            "needs_background": "light"
          }
        },
        {
          "output_type": "display_data",
          "data": {
            "text/plain": [
              "<Figure size 720x720 with 1 Axes>"
            ],
            "image/png": "[encoded data removed]"
          },
          "metadata": {
            "needs_background": "light"
          }
        },
        {
          "output_type": "display_data",
          "data": {
            "text/plain": [
              "<Figure size 720x720 with 1 Axes>"
            ],
            "image/png": "[encoded data removed]"
          },
          "metadata": {
            "needs_background": "light"
          }
        },
        {
          "output_type": "display_data",
          "data": {
            "text/plain": [
              "<Figure size 720x720 with 1 Axes>"
            ],
            "image/png": "[encoded data removed]"
          },
          "metadata": {
            "needs_background": "light"
          }
        },
        {
          "output_type": "display_data",
          "data": {
            "text/plain": [
              "<Figure size 720x720 with 1 Axes>"
            ],
            "image/png": "[encoded data removed]"
          },
          "metadata": {
            "needs_background": "light"
          }
        },
        {
          "output_type": "display_data",
          "data": {
            "text/plain": [
              "<Figure size 720x720 with 1 Axes>"
            ],
            "image/png": "[encoded data removed]"
          },
          "metadata": {
            "needs_background": "light"
          }
        },
        {
          "output_type": "display_data",
          "data": {
            "text/plain": [
              "<Figure size 720x720 with 1 Axes>"
            ],
            "image/png": "[encoded data removed]"
          },
          "metadata": {
            "needs_background": "light"
          }
        },
        {
          "output_type": "display_data",
          "data": {
            "text/plain": [
              "<Figure size 720x720 with 1 Axes>"
            ],
            "image/png": "[encoded data removed]"
          },
          "metadata": {
            "needs_background": "light"
          }
        },
        {
          "output_type": "display_data",
          "data": {
            "text/plain": [
              "<Figure size 720x720 with 1 Axes>"
            ],
            "image/png": "[encoded data removed]"
          },
          "metadata": {
            "needs_background": "light"
          }
        },
        {
          "output_type": "display_data",
          "data": {
            "text/plain": [
              "<Figure size 720x720 with 1 Axes>"
            ],
            "image/png": "[encoded data removed]"
          },
          "metadata": {
            "needs_background": "light"
          }
        },
        {
          "output_type": "display_data",
          "data": {
            "text/plain": [
              "<Figure size 720x720 with 1 Axes>"
            ],
            "image/png": "[encoded data removed]"
          },
          "metadata": {
            "needs_background": "light"
          }
        },
        {
          "output_type": "display_data",
          "data": {
            "text/plain": [
              "<Figure size 720x720 with 1 Axes>"
            ],
            "image/png": "[encoded data removed]"
          },
          "metadata": {
            "needs_background": "light"
          }
        },
        {
          "output_type": "display_data",
          "data": {
            "text/plain": [
              "<Figure size 720x720 with 1 Axes>"
            ],
            "image/png": "[encoded data removed]"
          },
          "metadata": {
            "needs_background": "light"
          }
        },
        {
          "output_type": "display_data",
          "data": {
            "text/plain": [
              "<Figure size 720x720 with 1 Axes>"
            ],
            "image/png": "[encoded data removed]"
          },
          "metadata": {
            "needs_background": "light"
          }
        },
        {
          "output_type": "display_data",
          "data": {
            "text/plain": [
              "<Figure size 720x720 with 1 Axes>"
            ],
            "image/png": "[encoded data removed]"
          },
          "metadata": {
            "needs_background": "light"
          }
        },
        {
          "output_type": "display_data",
          "data": {
            "text/plain": [
              "<Figure size 720x720 with 1 Axes>"
            ],
            "image/png": "[encoded data removed]"
          },
          "metadata": {
            "needs_background": "light"
          }
        },
        {
          "output_type": "display_data",
          "data": {
            "text/plain": [
              "<Figure size 720x720 with 1 Axes>"
            ],
            "image/png": "[encoded data removed]"
          },
          "metadata": {
            "needs_background": "light"
          }
        },
        {
          "output_type": "display_data",
          "data": {
            "text/plain": [
              "<Figure size 720x720 with 1 Axes>"
            ],
            "image/png": "[encoded data removed]"
          },
          "metadata": {
            "needs_background": "light"
          }
        },
        {
          "output_type": "display_data",
          "data": {
            "text/plain": [
              "<Figure size 720x720 with 1 Axes>"
            ],
            "image/png": "[encoded data removed]"
          },
          "metadata": {
            "needs_background": "light"
          }
        },
        {
          "output_type": "display_data",
          "data": {
            "text/plain": [
              "<Figure size 720x720 with 1 Axes>"
            ],
            "image/png": "[encoded data removed]"
          },
          "metadata": {
            "needs_background": "light"
          }
        }
      ]
    },
    {
      "cell_type": "code",
      "source": [
        "retailweek=df['retailweek']"
      ],
      "metadata": {
        "id": "HaubyQHlhudl"
      },
      "execution_count": 13,
      "outputs": []
    },
    {
      "cell_type": "code",
      "source": [
        "for i in range(len(retailweek)):\n",
        "  retailweek[i]=retailweek[i][:-6]"
      ],
      "metadata": {
        "colab": {
          "base_uri": "https://localhost:8080/"
        },
        "id": "zVf_NqdbiAO2",
        "outputId": "774385fd-83d3-44ee-e534-c67a1bc8e6c7"
      },
      "execution_count": 14,
      "outputs": [
        {
          "output_type": "stream",
          "name": "stderr",
          "text": [
            "<ipython-input-14-a39ecba096d4>:2: SettingWithCopyWarning: \n",
            "A value is trying to be set on a copy of a slice from a DataFrame\n",
            "\n",
            "See the caveats in the documentation: https://pandas.pydata.org/pandas-docs/stable/user_guide/indexing.html#returning-a-view-versus-a-copy\n",
            "  retailweek[i]=retailweek[i][:-6]\n"
          ]
        }
      ]
    },
    {
      "cell_type": "code",
      "source": [
        "df['retailweek']=retailweek.astype(int)"
      ],
      "metadata": {
        "id": "-LVm8Ehyiuza"
      },
      "execution_count": 15,
      "outputs": []
    },
    {
      "cell_type": "code",
      "source": [
        "df['customer_id'].unique()"
      ],
      "metadata": {
        "colab": {
          "base_uri": "https://localhost:8080/"
        },
        "id": "pbK2p_RqjSbW",
        "outputId": "f0a47577-e2f4-43ed-c9ca-6a27f6d8d3c8"
      },
      "execution_count": 16,
      "outputs": [
        {
          "output_type": "execute_result",
          "data": {
            "text/plain": [
              "array([1003., 1649.,  936., ..., 3772., 4971., 5431.])"
            ]
          },
          "metadata": {},
          "execution_count": 16
        }
      ]
    },
    {
      "cell_type": "code",
      "source": [],
      "metadata": {
        "colab": {
          "base_uri": "https://localhost:8080/",
          "height": 311
        },
        "id": "UqxDZ8sehl3p",
        "outputId": "b77c28a1-adf3-4f25-bb29-a2f4ebc61f68"
      },
      "execution_count": 17,
      "outputs": [
        {
          "output_type": "error",
          "ename": "KeyError",
          "evalue": "ignored",
          "traceback": [
            "\u001b[0;31m---------------------------------------------------------------------------\u001b[0m",
            "\u001b[0;31mKeyError\u001b[0m                                  Traceback (most recent call last)",
            "\u001b[0;32m<ipython-input-17-d5b787c5ffd6>\u001b[0m in \u001b[0;36m<module>\u001b[0;34m\u001b[0m\n\u001b[0;32m----> 1\u001b[0;31m \u001b[0mdf\u001b[0m\u001b[0;34m.\u001b[0m\u001b[0mdrop\u001b[0m\u001b[0;34m(\u001b[0m\u001b[0;34m[\u001b[0m\u001b[0;34m'article'\u001b[0m\u001b[0;34m,\u001b[0m\u001b[0;34m'regular_price'\u001b[0m\u001b[0;34m,\u001b[0m\u001b[0;34m'current_price'\u001b[0m\u001b[0;34m]\u001b[0m\u001b[0;34m)\u001b[0m\u001b[0;34m\u001b[0m\u001b[0;34m\u001b[0m\u001b[0m\n\u001b[0m",
            "\u001b[0;32m/usr/local/lib/python3.9/dist-packages/pandas/util/_decorators.py\u001b[0m in \u001b[0;36mwrapper\u001b[0;34m(*args, **kwargs)\u001b[0m\n\u001b[1;32m    309\u001b[0m                     \u001b[0mstacklevel\u001b[0m\u001b[0;34m=\u001b[0m\u001b[0mstacklevel\u001b[0m\u001b[0;34m,\u001b[0m\u001b[0;34m\u001b[0m\u001b[0;34m\u001b[0m\u001b[0m\n\u001b[1;32m    310\u001b[0m                 )\n\u001b[0;32m--> 311\u001b[0;31m             \u001b[0;32mreturn\u001b[0m \u001b[0mfunc\u001b[0m\u001b[0;34m(\u001b[0m\u001b[0;34m*\u001b[0m\u001b[0margs\u001b[0m\u001b[0;34m,\u001b[0m \u001b[0;34m**\u001b[0m\u001b[0mkwargs\u001b[0m\u001b[0;34m)\u001b[0m\u001b[0;34m\u001b[0m\u001b[0;34m\u001b[0m\u001b[0m\n\u001b[0m\u001b[1;32m    312\u001b[0m \u001b[0;34m\u001b[0m\u001b[0m\n\u001b[1;32m    313\u001b[0m         \u001b[0;32mreturn\u001b[0m \u001b[0mwrapper\u001b[0m\u001b[0;34m\u001b[0m\u001b[0;34m\u001b[0m\u001b[0m\n",
            "\u001b[0;32m/usr/local/lib/python3.9/dist-packages/pandas/core/frame.py\u001b[0m in \u001b[0;36mdrop\u001b[0;34m(self, labels, axis, index, columns, level, inplace, errors)\u001b[0m\n\u001b[1;32m   4955\u001b[0m                 \u001b[0mweight\u001b[0m  \u001b[0;36m1.0\u001b[0m     \u001b[0;36m0.8\u001b[0m\u001b[0;34m\u001b[0m\u001b[0;34m\u001b[0m\u001b[0m\n\u001b[1;32m   4956\u001b[0m         \"\"\"\n\u001b[0;32m-> 4957\u001b[0;31m         return super().drop(\n\u001b[0m\u001b[1;32m   4958\u001b[0m             \u001b[0mlabels\u001b[0m\u001b[0;34m=\u001b[0m\u001b[0mlabels\u001b[0m\u001b[0;34m,\u001b[0m\u001b[0;34m\u001b[0m\u001b[0;34m\u001b[0m\u001b[0m\n\u001b[1;32m   4959\u001b[0m             \u001b[0maxis\u001b[0m\u001b[0;34m=\u001b[0m\u001b[0maxis\u001b[0m\u001b[0;34m,\u001b[0m\u001b[0;34m\u001b[0m\u001b[0;34m\u001b[0m\u001b[0m\n",
            "\u001b[0;32m/usr/local/lib/python3.9/dist-packages/pandas/core/generic.py\u001b[0m in \u001b[0;36mdrop\u001b[0;34m(self, labels, axis, index, columns, level, inplace, errors)\u001b[0m\n\u001b[1;32m   4265\u001b[0m         \u001b[0;32mfor\u001b[0m \u001b[0maxis\u001b[0m\u001b[0;34m,\u001b[0m \u001b[0mlabels\u001b[0m \u001b[0;32min\u001b[0m \u001b[0maxes\u001b[0m\u001b[0;34m.\u001b[0m\u001b[0mitems\u001b[0m\u001b[0;34m(\u001b[0m\u001b[0;34m)\u001b[0m\u001b[0;34m:\u001b[0m\u001b[0;34m\u001b[0m\u001b[0;34m\u001b[0m\u001b[0m\n\u001b[1;32m   4266\u001b[0m             \u001b[0;32mif\u001b[0m \u001b[0mlabels\u001b[0m \u001b[0;32mis\u001b[0m \u001b[0;32mnot\u001b[0m \u001b[0;32mNone\u001b[0m\u001b[0;34m:\u001b[0m\u001b[0;34m\u001b[0m\u001b[0;34m\u001b[0m\u001b[0m\n\u001b[0;32m-> 4267\u001b[0;31m                 \u001b[0mobj\u001b[0m \u001b[0;34m=\u001b[0m \u001b[0mobj\u001b[0m\u001b[0;34m.\u001b[0m\u001b[0m_drop_axis\u001b[0m\u001b[0;34m(\u001b[0m\u001b[0mlabels\u001b[0m\u001b[0;34m,\u001b[0m \u001b[0maxis\u001b[0m\u001b[0;34m,\u001b[0m \u001b[0mlevel\u001b[0m\u001b[0;34m=\u001b[0m\u001b[0mlevel\u001b[0m\u001b[0;34m,\u001b[0m \u001b[0merrors\u001b[0m\u001b[0;34m=\u001b[0m\u001b[0merrors\u001b[0m\u001b[0;34m)\u001b[0m\u001b[0;34m\u001b[0m\u001b[0;34m\u001b[0m\u001b[0m\n\u001b[0m\u001b[1;32m   4268\u001b[0m \u001b[0;34m\u001b[0m\u001b[0m\n\u001b[1;32m   4269\u001b[0m         \u001b[0;32mif\u001b[0m \u001b[0minplace\u001b[0m\u001b[0;34m:\u001b[0m\u001b[0;34m\u001b[0m\u001b[0;34m\u001b[0m\u001b[0m\n",
            "\u001b[0;32m/usr/local/lib/python3.9/dist-packages/pandas/core/generic.py\u001b[0m in \u001b[0;36m_drop_axis\u001b[0;34m(self, labels, axis, level, errors, consolidate, only_slice)\u001b[0m\n\u001b[1;32m   4309\u001b[0m                 \u001b[0mnew_axis\u001b[0m \u001b[0;34m=\u001b[0m \u001b[0maxis\u001b[0m\u001b[0;34m.\u001b[0m\u001b[0mdrop\u001b[0m\u001b[0;34m(\u001b[0m\u001b[0mlabels\u001b[0m\u001b[0;34m,\u001b[0m \u001b[0mlevel\u001b[0m\u001b[0;34m=\u001b[0m\u001b[0mlevel\u001b[0m\u001b[0;34m,\u001b[0m \u001b[0merrors\u001b[0m\u001b[0;34m=\u001b[0m\u001b[0merrors\u001b[0m\u001b[0;34m)\u001b[0m\u001b[0;34m\u001b[0m\u001b[0;34m\u001b[0m\u001b[0m\n\u001b[1;32m   4310\u001b[0m             \u001b[0;32melse\u001b[0m\u001b[0;34m:\u001b[0m\u001b[0;34m\u001b[0m\u001b[0;34m\u001b[0m\u001b[0m\n\u001b[0;32m-> 4311\u001b[0;31m                 \u001b[0mnew_axis\u001b[0m \u001b[0;34m=\u001b[0m \u001b[0maxis\u001b[0m\u001b[0;34m.\u001b[0m\u001b[0mdrop\u001b[0m\u001b[0;34m(\u001b[0m\u001b[0mlabels\u001b[0m\u001b[0;34m,\u001b[0m \u001b[0merrors\u001b[0m\u001b[0;34m=\u001b[0m\u001b[0merrors\u001b[0m\u001b[0;34m)\u001b[0m\u001b[0;34m\u001b[0m\u001b[0;34m\u001b[0m\u001b[0m\n\u001b[0m\u001b[1;32m   4312\u001b[0m             \u001b[0mindexer\u001b[0m \u001b[0;34m=\u001b[0m \u001b[0maxis\u001b[0m\u001b[0;34m.\u001b[0m\u001b[0mget_indexer\u001b[0m\u001b[0;34m(\u001b[0m\u001b[0mnew_axis\u001b[0m\u001b[0;34m)\u001b[0m\u001b[0;34m\u001b[0m\u001b[0;34m\u001b[0m\u001b[0m\n\u001b[1;32m   4313\u001b[0m \u001b[0;34m\u001b[0m\u001b[0m\n",
            "\u001b[0;32m/usr/local/lib/python3.9/dist-packages/pandas/core/indexes/base.py\u001b[0m in \u001b[0;36mdrop\u001b[0;34m(self, labels, errors)\u001b[0m\n\u001b[1;32m   6659\u001b[0m         \u001b[0;32mif\u001b[0m \u001b[0mmask\u001b[0m\u001b[0;34m.\u001b[0m\u001b[0many\u001b[0m\u001b[0;34m(\u001b[0m\u001b[0;34m)\u001b[0m\u001b[0;34m:\u001b[0m\u001b[0;34m\u001b[0m\u001b[0;34m\u001b[0m\u001b[0m\n\u001b[1;32m   6660\u001b[0m             \u001b[0;32mif\u001b[0m \u001b[0merrors\u001b[0m \u001b[0;34m!=\u001b[0m \u001b[0;34m\"ignore\"\u001b[0m\u001b[0;34m:\u001b[0m\u001b[0;34m\u001b[0m\u001b[0;34m\u001b[0m\u001b[0m\n\u001b[0;32m-> 6661\u001b[0;31m                 \u001b[0;32mraise\u001b[0m \u001b[0mKeyError\u001b[0m\u001b[0;34m(\u001b[0m\u001b[0;34mf\"{list(labels[mask])} not found in axis\"\u001b[0m\u001b[0;34m)\u001b[0m\u001b[0;34m\u001b[0m\u001b[0;34m\u001b[0m\u001b[0m\n\u001b[0m\u001b[1;32m   6662\u001b[0m             \u001b[0mindexer\u001b[0m \u001b[0;34m=\u001b[0m \u001b[0mindexer\u001b[0m\u001b[0;34m[\u001b[0m\u001b[0;34m~\u001b[0m\u001b[0mmask\u001b[0m\u001b[0;34m]\u001b[0m\u001b[0;34m\u001b[0m\u001b[0;34m\u001b[0m\u001b[0m\n\u001b[1;32m   6663\u001b[0m         \u001b[0;32mreturn\u001b[0m \u001b[0mself\u001b[0m\u001b[0;34m.\u001b[0m\u001b[0mdelete\u001b[0m\u001b[0;34m(\u001b[0m\u001b[0mindexer\u001b[0m\u001b[0;34m)\u001b[0m\u001b[0;34m\u001b[0m\u001b[0;34m\u001b[0m\u001b[0m\n",
            "\u001b[0;31mKeyError\u001b[0m: \"['article', 'regular_price', 'current_price'] not found in axis\""
          ]
        }
      ]
    },
    {
      "cell_type": "code",
      "source": [
        "df['country'].unique()"
      ],
      "metadata": {
        "colab": {
          "base_uri": "https://localhost:8080/"
        },
        "id": "3lSvMI7Jg_Z-",
        "outputId": "e5023983-5121-48cc-95cd-a292839b78e0"
      },
      "execution_count": 18,
      "outputs": [
        {
          "output_type": "execute_result",
          "data": {
            "text/plain": [
              "array(['Germany', 'Austria', 'France'], dtype=object)"
            ]
          },
          "metadata": {},
          "execution_count": 18
        }
      ]
    },
    {
      "cell_type": "code",
      "source": [
        "bought_items=df[df['label']==1]\n",
        "bought_items.head()"
      ],
      "metadata": {
        "colab": {
          "base_uri": "https://localhost:8080/",
          "height": 299
        },
        "id": "_JzXow9SVh2d",
        "outputId": "2c6e8b1a-7bf4-4e0e-a601-4a0bd31fa3d1"
      },
      "execution_count": 19,
      "outputs": [
        {
          "output_type": "execute_result",
          "data": {
            "text/plain": [
              "    country article  sales  regular_price  current_price     ratio  \\\n",
              "5   Germany  YN8639     28           5.95           3.95  0.663866   \n",
              "7   Germany  YN8639     28           5.95           3.95  0.663866   \n",
              "9   Germany  YN8639     28           5.95           3.95  0.663866   \n",
              "13  Germany  CF3238     27          37.95          28.95  0.762846   \n",
              "15  Germany  CF3238     27          37.95          28.95  0.762846   \n",
              "\n",
              "    retailweek  promo1  promo2  customer_id  ...    style  \\\n",
              "5         2016       0       0       1003.0  ...     wide   \n",
              "7         2016       0       0       1003.0  ...     wide   \n",
              "9         2016       0       0       1003.0  ...  regular   \n",
              "13        2015       0       0       1649.0  ...  regular   \n",
              "15        2015       0       0       1649.0  ...     wide   \n",
              "\n",
              "                  sizes gender  rgb_r_main_col rgb_g_main_col rgb_b_main_col  \\\n",
              "5   xxs,xs,s,m,l,xl,xxl  women              79            148            205   \n",
              "7   xxs,xs,s,m,l,xl,xxl  women             135            206            250   \n",
              "9   xxs,xs,s,m,l,xl,xxl    men             139            137            137   \n",
              "13  xxs,xs,s,m,l,xl,xxl   kids             205            140            149   \n",
              "15  xxs,xs,s,m,l,xl,xxl  women              79            148            205   \n",
              "\n",
              "   rgb_r_sec_col  rgb_g_sec_col  rgb_b_sec_col  label  \n",
              "5            164            211            238      1  \n",
              "7            205            155            155      1  \n",
              "9            205            155            155      1  \n",
              "13           164            211            238      1  \n",
              "15           164            211            238      1  \n",
              "\n",
              "[5 rows x 24 columns]"
            ],
            "text/html": [
              "\n",
              "  <div id=\"df-5653cfbd-d187-4480-b08d-4802aea6bcb1\">\n",
              "    <div class=\"colab-df-container\">\n",
              "      <div>\n",
              "<style scoped>\n",
              "    .dataframe tbody tr th:only-of-type {\n",
              "        vertical-align: middle;\n",
              "    }\n",
              "\n",
              "    .dataframe tbody tr th {\n",
              "        vertical-align: top;\n",
              "    }\n",
              "\n",
              "    .dataframe thead th {\n",
              "        text-align: right;\n",
              "    }\n",
              "</style>\n",
              "<table border=\"1\" class=\"dataframe\">\n",
              "  <thead>\n",
              "    <tr style=\"text-align: right;\">\n",
              "      <th></th>\n",
              "      <th>country</th>\n",
              "      <th>article</th>\n",
              "      <th>sales</th>\n",
              "      <th>regular_price</th>\n",
              "      <th>current_price</th>\n",
              "      <th>ratio</th>\n",
              "      <th>retailweek</th>\n",
              "      <th>promo1</th>\n",
              "      <th>promo2</th>\n",
              "      <th>customer_id</th>\n",
              "      <th>...</th>\n",
              "      <th>style</th>\n",
              "      <th>sizes</th>\n",
              "      <th>gender</th>\n",
              "      <th>rgb_r_main_col</th>\n",
              "      <th>rgb_g_main_col</th>\n",
              "      <th>rgb_b_main_col</th>\n",
              "      <th>rgb_r_sec_col</th>\n",
              "      <th>rgb_g_sec_col</th>\n",
              "      <th>rgb_b_sec_col</th>\n",
              "      <th>label</th>\n",
              "    </tr>\n",
              "  </thead>\n",
              "  <tbody>\n",
              "    <tr>\n",
              "      <th>5</th>\n",
              "      <td>Germany</td>\n",
              "      <td>YN8639</td>\n",
              "      <td>28</td>\n",
              "      <td>5.95</td>\n",
              "      <td>3.95</td>\n",
              "      <td>0.663866</td>\n",
              "      <td>2016</td>\n",
              "      <td>0</td>\n",
              "      <td>0</td>\n",
              "      <td>1003.0</td>\n",
              "      <td>...</td>\n",
              "      <td>wide</td>\n",
              "      <td>xxs,xs,s,m,l,xl,xxl</td>\n",
              "      <td>women</td>\n",
              "      <td>79</td>\n",
              "      <td>148</td>\n",
              "      <td>205</td>\n",
              "      <td>164</td>\n",
              "      <td>211</td>\n",
              "      <td>238</td>\n",
              "      <td>1</td>\n",
              "    </tr>\n",
              "    <tr>\n",
              "      <th>7</th>\n",
              "      <td>Germany</td>\n",
              "      <td>YN8639</td>\n",
              "      <td>28</td>\n",
              "      <td>5.95</td>\n",
              "      <td>3.95</td>\n",
              "      <td>0.663866</td>\n",
              "      <td>2016</td>\n",
              "      <td>0</td>\n",
              "      <td>0</td>\n",
              "      <td>1003.0</td>\n",
              "      <td>...</td>\n",
              "      <td>wide</td>\n",
              "      <td>xxs,xs,s,m,l,xl,xxl</td>\n",
              "      <td>women</td>\n",
              "      <td>135</td>\n",
              "      <td>206</td>\n",
              "      <td>250</td>\n",
              "      <td>205</td>\n",
              "      <td>155</td>\n",
              "      <td>155</td>\n",
              "      <td>1</td>\n",
              "    </tr>\n",
              "    <tr>\n",
              "      <th>9</th>\n",
              "      <td>Germany</td>\n",
              "      <td>YN8639</td>\n",
              "      <td>28</td>\n",
              "      <td>5.95</td>\n",
              "      <td>3.95</td>\n",
              "      <td>0.663866</td>\n",
              "      <td>2016</td>\n",
              "      <td>0</td>\n",
              "      <td>0</td>\n",
              "      <td>1003.0</td>\n",
              "      <td>...</td>\n",
              "      <td>regular</td>\n",
              "      <td>xxs,xs,s,m,l,xl,xxl</td>\n",
              "      <td>men</td>\n",
              "      <td>139</td>\n",
              "      <td>137</td>\n",
              "      <td>137</td>\n",
              "      <td>205</td>\n",
              "      <td>155</td>\n",
              "      <td>155</td>\n",
              "      <td>1</td>\n",
              "    </tr>\n",
              "    <tr>\n",
              "      <th>13</th>\n",
              "      <td>Germany</td>\n",
              "      <td>CF3238</td>\n",
              "      <td>27</td>\n",
              "      <td>37.95</td>\n",
              "      <td>28.95</td>\n",
              "      <td>0.762846</td>\n",
              "      <td>2015</td>\n",
              "      <td>0</td>\n",
              "      <td>0</td>\n",
              "      <td>1649.0</td>\n",
              "      <td>...</td>\n",
              "      <td>regular</td>\n",
              "      <td>xxs,xs,s,m,l,xl,xxl</td>\n",
              "      <td>kids</td>\n",
              "      <td>205</td>\n",
              "      <td>140</td>\n",
              "      <td>149</td>\n",
              "      <td>164</td>\n",
              "      <td>211</td>\n",
              "      <td>238</td>\n",
              "      <td>1</td>\n",
              "    </tr>\n",
              "    <tr>\n",
              "      <th>15</th>\n",
              "      <td>Germany</td>\n",
              "      <td>CF3238</td>\n",
              "      <td>27</td>\n",
              "      <td>37.95</td>\n",
              "      <td>28.95</td>\n",
              "      <td>0.762846</td>\n",
              "      <td>2015</td>\n",
              "      <td>0</td>\n",
              "      <td>0</td>\n",
              "      <td>1649.0</td>\n",
              "      <td>...</td>\n",
              "      <td>wide</td>\n",
              "      <td>xxs,xs,s,m,l,xl,xxl</td>\n",
              "      <td>women</td>\n",
              "      <td>79</td>\n",
              "      <td>148</td>\n",
              "      <td>205</td>\n",
              "      <td>164</td>\n",
              "      <td>211</td>\n",
              "      <td>238</td>\n",
              "      <td>1</td>\n",
              "    </tr>\n",
              "  </tbody>\n",
              "</table>\n",
              "<p>5 rows × 24 columns</p>\n",
              "</div>\n",
              "      <button class=\"colab-df-convert\" onclick=\"convertToInteractive('df-5653cfbd-d187-4480-b08d-4802aea6bcb1')\"\n",
              "              title=\"Convert this dataframe to an interactive table.\"\n",
              "              style=\"display:none;\">\n",
              "        \n",
              "  <svg xmlns=\"http://www.w3.org/2000/svg\" height=\"24px\"viewBox=\"0 0 24 24\"\n",
              "       width=\"24px\">\n",
              "    <path d=\"M0 0h24v24H0V0z\" fill=\"none\"/>\n",
              "    <path d=\"M18.56 5.44l.94 2.06.94-2.06 2.06-.94-2.06-.94-.94-2.06-.94 2.06-2.06.94zm-11 1L8.5 8.5l.94-2.06 2.06-.94-2.06-.94L8.5 2.5l-.94 2.06-2.06.94zm10 10l.94 2.06.94-2.06 2.06-.94-2.06-.94-.94-2.06-.94 2.06-2.06.94z\"/><path d=\"M17.41 7.96l-1.37-1.37c-.4-.4-.92-.59-1.43-.59-.52 0-1.04.2-1.43.59L10.3 9.45l-7.72 7.72c-.78.78-.78 2.05 0 2.83L4 21.41c.39.39.9.59 1.41.59.51 0 1.02-.2 1.41-.59l7.78-7.78 2.81-2.81c.8-.78.8-2.07 0-2.86zM5.41 20L4 18.59l7.72-7.72 1.47 1.35L5.41 20z\"/>\n",
              "  </svg>\n",
              "      </button>\n",
              "      \n",
              "  <style>\n",
              "    .colab-df-container {\n",
              "      display:flex;\n",
              "      flex-wrap:wrap;\n",
              "      gap: 12px;\n",
              "    }\n",
              "\n",
              "    .colab-df-convert {\n",
              "      background-color: #E8F0FE;\n",
              "      border: none;\n",
              "      border-radius: 50%;\n",
              "      cursor: pointer;\n",
              "      display: none;\n",
              "      fill: #1967D2;\n",
              "      height: 32px;\n",
              "      padding: 0 0 0 0;\n",
              "      width: 32px;\n",
              "    }\n",
              "\n",
              "    .colab-df-convert:hover {\n",
              "      background-color: #E2EBFA;\n",
              "      box-shadow: 0px 1px 2px rgba(60, 64, 67, 0.3), 0px 1px 3px 1px rgba(60, 64, 67, 0.15);\n",
              "      fill: #174EA6;\n",
              "    }\n",
              "\n",
              "    [theme=dark] .colab-df-convert {\n",
              "      background-color: #3B4455;\n",
              "      fill: #D2E3FC;\n",
              "    }\n",
              "\n",
              "    [theme=dark] .colab-df-convert:hover {\n",
              "      background-color: #434B5C;\n",
              "      box-shadow: 0px 1px 3px 1px rgba(0, 0, 0, 0.15);\n",
              "      filter: drop-shadow(0px 1px 2px rgba(0, 0, 0, 0.3));\n",
              "      fill: #FFFFFF;\n",
              "    }\n",
              "  </style>\n",
              "\n",
              "      <script>\n",
              "        const buttonEl =\n",
              "          document.querySelector('#df-5653cfbd-d187-4480-b08d-4802aea6bcb1 button.colab-df-convert');\n",
              "        buttonEl.style.display =\n",
              "          google.colab.kernel.accessAllowed ? 'block' : 'none';\n",
              "\n",
              "        async function convertToInteractive(key) {\n",
              "          const element = document.querySelector('#df-5653cfbd-d187-4480-b08d-4802aea6bcb1');\n",
              "          const dataTable =\n",
              "            await google.colab.kernel.invokeFunction('convertToInteractive',\n",
              "                                                     [key], {});\n",
              "          if (!dataTable) return;\n",
              "\n",
              "          const docLinkHtml = 'Like what you see? Visit the ' +\n",
              "            '<a target=\"_blank\" href=https://colab.research.google.com/notebooks/data_table.ipynb>data table notebook</a>'\n",
              "            + ' to learn more about interactive tables.';\n",
              "          element.innerHTML = '';\n",
              "          dataTable['output_type'] = 'display_data';\n",
              "          await google.colab.output.renderOutput(dataTable, element);\n",
              "          const docLink = document.createElement('div');\n",
              "          docLink.innerHTML = docLinkHtml;\n",
              "          element.appendChild(docLink);\n",
              "        }\n",
              "      </script>\n",
              "    </div>\n",
              "  </div>\n",
              "  "
            ]
          },
          "metadata": {},
          "execution_count": 19
        }
      ]
    },
    {
      "cell_type": "code",
      "source": [],
      "metadata": {
        "id": "tq4s7QSg2MDb"
      },
      "execution_count": null,
      "outputs": []
    },
    {
      "cell_type": "markdown",
      "source": [
        "# THe ratio of data balancing"
      ],
      "metadata": {
        "id": "1kdlMSHxv4Tw"
      }
    },
    {
      "cell_type": "code",
      "source": [
        "len(bought_items)/len(df)"
      ],
      "metadata": {
        "colab": {
          "base_uri": "https://localhost:8080/"
        },
        "id": "pX_0mQeZvznc",
        "outputId": "5b78469a-0d5d-4487-d05f-74bc05e1c07c"
      },
      "execution_count": 21,
      "outputs": [
        {
          "output_type": "execute_result",
          "data": {
            "text/plain": [
              "0.13928"
            ]
          },
          "metadata": {},
          "execution_count": 21
        }
      ]
    },
    {
      "cell_type": "markdown",
      "source": [
        "#the common country is Austrlia"
      ],
      "metadata": {
        "id": "9k4pnPmcyzf1"
      }
    },
    {
      "cell_type": "code",
      "source": [
        "for i in range(df.country.nunique()):\n",
        "  print(\"The ratio of country\",df.country.unique()[i],\"WHO Bought is\",bought_items.country.value_counts()[i]/df.gender.value_counts()[i])"
      ],
      "metadata": {
        "colab": {
          "base_uri": "https://localhost:8080/"
        },
        "id": "3K7x-jyruGds",
        "outputId": "9d23b887-cd73-45a8-f7a4-550c18a5067c"
      },
      "execution_count": 22,
      "outputs": [
        {
          "output_type": "stream",
          "name": "stdout",
          "text": [
            "The ratio of country Germany WHO Bought is 0.09767142857142858\n",
            "The ratio of country Austria WHO Bought is 0.5044\n",
            "The ratio of country France WHO Bought is 0.2047\n"
          ]
        }
      ]
    },
    {
      "cell_type": "markdown",
      "source": [
        "#the common productgroup is shorts"
      ],
      "metadata": {
        "id": "_zA0v334zJoA"
      }
    },
    {
      "cell_type": "code",
      "source": [
        "for i in range(df.productgroup.nunique()):\n",
        "  print(\"The ratio of productgroup\",df.productgroup.unique()[i],\"WHO Bought is\",bought_items.productgroup.value_counts()[i]/df.gender.value_counts()[i])"
      ],
      "metadata": {
        "colab": {
          "base_uri": "https://localhost:8080/"
        },
        "id": "fF9JcJQ5ujM8",
        "outputId": "313bffc6-8551-4b2c-eaf1-21f293020373"
      },
      "execution_count": 23,
      "outputs": [
        {
          "output_type": "stream",
          "name": "stdout",
          "text": [
            "The ratio of productgroup SHOES WHO Bought is 0.11962857142857143\n",
            "The ratio of productgroup SHORTS WHO Bought is 0.2814\n",
            "The ratio of productgroup HARDWARE ACCESSORIES WHO Bought is 0.1389\n",
            "The ratio of productgroup SWEATSHIRTS WHO Bought is 0.1351\n"
          ]
        }
      ]
    },
    {
      "cell_type": "code",
      "source": [
        "for i in range(df['style'].nunique()):\n",
        "  print(\"The ratio of style\",df['style'].unique()[i],\"WHO Bought is\",bought_items['style'].value_counts()[i]/df['style'].value_counts()[i])"
      ],
      "metadata": {
        "colab": {
          "base_uri": "https://localhost:8080/"
        },
        "id": "R9ooWEhPzFgu",
        "outputId": "9355b669-ea15-4a35-d54c-4d3a7c802211"
      },
      "execution_count": 25,
      "outputs": [
        {
          "output_type": "stream",
          "name": "stdout",
          "text": [
            "The ratio of style slim WHO Bought is 0.13974\n",
            "The ratio of style regular WHO Bought is 0.13876666666666668\n",
            "The ratio of style wide WHO Bought is 0.1389\n"
          ]
        }
      ]
    },
    {
      "cell_type": "code",
      "source": [
        "for i in range(df['gender'].nunique()):\n",
        "  print(\"The ratio of gender\",df['gender'].unique()[i],\"WHO Bought is\",bought_items['gender'].value_counts()[i]/df['gender'].value_counts()[i])"
      ],
      "metadata": {
        "colab": {
          "base_uri": "https://localhost:8080/"
        },
        "id": "qUKLCCUZzpbU",
        "outputId": "c5be041d-a450-4837-864f-dbc22ca28f45"
      },
      "execution_count": 26,
      "outputs": [
        {
          "output_type": "stream",
          "name": "stdout",
          "text": [
            "The ratio of gender women WHO Bought is 0.1392857142857143\n",
            "The ratio of gender kids WHO Bought is 0.1426\n",
            "The ratio of gender unisex WHO Bought is 0.1376\n",
            "The ratio of gender men WHO Bought is 0.1376\n"
          ]
        }
      ]
    },
    {
      "cell_type": "code",
      "source": [
        "sns.boxplot(x='ratio',data=df)"
      ],
      "metadata": {
        "colab": {
          "base_uri": "https://localhost:8080/",
          "height": 296
        },
        "id": "9E4WVWXH0rUc",
        "outputId": "7b3fbbb1-0478-4913-9132-cfafe7271e36"
      },
      "execution_count": 27,
      "outputs": [
        {
          "output_type": "execute_result",
          "data": {
            "text/plain": [
              "<Axes: xlabel='ratio'>"
            ]
          },
          "metadata": {},
          "execution_count": 27
        },
        {
          "output_type": "display_data",
          "data": {
            "text/plain": [
              "<Figure size 432x288 with 1 Axes>"
            ],
            "image/png": "[encoded data removed]"
          },
          "metadata": {
            "needs_background": "light"
          }
        }
      ]
    },
    {
      "cell_type": "code",
      "source": [
        "df['promo1'].value_counts()"
      ],
      "metadata": {
        "colab": {
          "base_uri": "https://localhost:8080/"
        },
        "id": "fbeFcs5c2cza",
        "outputId": "7eeeefd8-c9c3-4f27-bf4e-a917ccc11626"
      },
      "execution_count": 28,
      "outputs": [
        {
          "output_type": "execute_result",
          "data": {
            "text/plain": [
              "0    93810\n",
              "1     6190\n",
              "Name: promo1, dtype: int64"
            ]
          },
          "metadata": {},
          "execution_count": 28
        }
      ]
    },
    {
      "cell_type": "code",
      "source": [
        "df['promo2'].value_counts()"
      ],
      "metadata": {
        "colab": {
          "base_uri": "https://localhost:8080/"
        },
        "id": "txWVNXQC3gYg",
        "outputId": "56fc0b24-68b1-49a6-a8aa-26f610e044b6"
      },
      "execution_count": 29,
      "outputs": [
        {
          "output_type": "execute_result",
          "data": {
            "text/plain": [
              "0    99510\n",
              "1      490\n",
              "Name: promo2, dtype: int64"
            ]
          },
          "metadata": {},
          "execution_count": 29
        }
      ]
    },
    {
      "cell_type": "code",
      "source": [
        "df.head()"
      ],
      "metadata": {
        "colab": {
          "base_uri": "https://localhost:8080/",
          "height": 299
        },
        "id": "Hn_86_in4qit",
        "outputId": "beb8010e-6cc7-457b-a753-478cdcd23580"
      },
      "execution_count": 30,
      "outputs": [
        {
          "output_type": "execute_result",
          "data": {
            "text/plain": [
              "   country article  sales  regular_price  current_price     ratio  retailweek  \\\n",
              "0  Germany  YN8639     28           5.95           3.95  0.663866        2016   \n",
              "1  Germany  YN8639     28           5.95           3.95  0.663866        2016   \n",
              "2  Germany  YN8639     28           5.95           3.95  0.663866        2016   \n",
              "3  Germany  YN8639     28           5.95           3.95  0.663866        2016   \n",
              "4  Germany  YN8639     28           5.95           3.95  0.663866        2016   \n",
              "\n",
              "   promo1  promo2  customer_id  ...    style                sizes gender  \\\n",
              "0       0       0       1003.0  ...     slim  xxs,xs,s,m,l,xl,xxl  women   \n",
              "1       0       0       1003.0  ...  regular  xxs,xs,s,m,l,xl,xxl  women   \n",
              "2       0       0       1003.0  ...  regular  xxs,xs,s,m,l,xl,xxl  women   \n",
              "3       0       0       1003.0  ...  regular  xxs,xs,s,m,l,xl,xxl   kids   \n",
              "4       0       0       1003.0  ...  regular  xxs,xs,s,m,l,xl,xxl  women   \n",
              "\n",
              "   rgb_r_main_col rgb_g_main_col rgb_b_main_col rgb_r_sec_col  rgb_g_sec_col  \\\n",
              "0             205            104             57           255            187   \n",
              "1             188            238            104           255            187   \n",
              "2             205            173              0           255            187   \n",
              "3             205            140            149           164            211   \n",
              "4             138             43            226           164            211   \n",
              "\n",
              "   rgb_b_sec_col  label  \n",
              "0            255      0  \n",
              "1            255      0  \n",
              "2            255      0  \n",
              "3            238      0  \n",
              "4            238      0  \n",
              "\n",
              "[5 rows x 24 columns]"
            ],
            "text/html": [
              "\n",
              "  <div id=\"df-cffaddd4-47bc-4aee-9a90-80a8b1678ad6\">\n",
              "    <div class=\"colab-df-container\">\n",
              "      <div>\n",
              "<style scoped>\n",
              "    .dataframe tbody tr th:only-of-type {\n",
              "        vertical-align: middle;\n",
              "    }\n",
              "\n",
              "    .dataframe tbody tr th {\n",
              "        vertical-align: top;\n",
              "    }\n",
              "\n",
              "    .dataframe thead th {\n",
              "        text-align: right;\n",
              "    }\n",
              "</style>\n",
              "<table border=\"1\" class=\"dataframe\">\n",
              "  <thead>\n",
              "    <tr style=\"text-align: right;\">\n",
              "      <th></th>\n",
              "      <th>country</th>\n",
              "      <th>article</th>\n",
              "      <th>sales</th>\n",
              "      <th>regular_price</th>\n",
              "      <th>current_price</th>\n",
              "      <th>ratio</th>\n",
              "      <th>retailweek</th>\n",
              "      <th>promo1</th>\n",
              "      <th>promo2</th>\n",
              "      <th>customer_id</th>\n",
              "      <th>...</th>\n",
              "      <th>style</th>\n",
              "      <th>sizes</th>\n",
              "      <th>gender</th>\n",
              "      <th>rgb_r_main_col</th>\n",
              "      <th>rgb_g_main_col</th>\n",
              "      <th>rgb_b_main_col</th>\n",
              "      <th>rgb_r_sec_col</th>\n",
              "      <th>rgb_g_sec_col</th>\n",
              "      <th>rgb_b_sec_col</th>\n",
              "      <th>label</th>\n",
              "    </tr>\n",
              "  </thead>\n",
              "  <tbody>\n",
              "    <tr>\n",
              "      <th>0</th>\n",
              "      <td>Germany</td>\n",
              "      <td>YN8639</td>\n",
              "      <td>28</td>\n",
              "      <td>5.95</td>\n",
              "      <td>3.95</td>\n",
              "      <td>0.663866</td>\n",
              "      <td>2016</td>\n",
              "      <td>0</td>\n",
              "      <td>0</td>\n",
              "      <td>1003.0</td>\n",
              "      <td>...</td>\n",
              "      <td>slim</td>\n",
              "      <td>xxs,xs,s,m,l,xl,xxl</td>\n",
              "      <td>women</td>\n",
              "      <td>205</td>\n",
              "      <td>104</td>\n",
              "      <td>57</td>\n",
              "      <td>255</td>\n",
              "      <td>187</td>\n",
              "      <td>255</td>\n",
              "      <td>0</td>\n",
              "    </tr>\n",
              "    <tr>\n",
              "      <th>1</th>\n",
              "      <td>Germany</td>\n",
              "      <td>YN8639</td>\n",
              "      <td>28</td>\n",
              "      <td>5.95</td>\n",
              "      <td>3.95</td>\n",
              "      <td>0.663866</td>\n",
              "      <td>2016</td>\n",
              "      <td>0</td>\n",
              "      <td>0</td>\n",
              "      <td>1003.0</td>\n",
              "      <td>...</td>\n",
              "      <td>regular</td>\n",
              "      <td>xxs,xs,s,m,l,xl,xxl</td>\n",
              "      <td>women</td>\n",
              "      <td>188</td>\n",
              "      <td>238</td>\n",
              "      <td>104</td>\n",
              "      <td>255</td>\n",
              "      <td>187</td>\n",
              "      <td>255</td>\n",
              "      <td>0</td>\n",
              "    </tr>\n",
              "    <tr>\n",
              "      <th>2</th>\n",
              "      <td>Germany</td>\n",
              "      <td>YN8639</td>\n",
              "      <td>28</td>\n",
              "      <td>5.95</td>\n",
              "      <td>3.95</td>\n",
              "      <td>0.663866</td>\n",
              "      <td>2016</td>\n",
              "      <td>0</td>\n",
              "      <td>0</td>\n",
              "      <td>1003.0</td>\n",
              "      <td>...</td>\n",
              "      <td>regular</td>\n",
              "      <td>xxs,xs,s,m,l,xl,xxl</td>\n",
              "      <td>women</td>\n",
              "      <td>205</td>\n",
              "      <td>173</td>\n",
              "      <td>0</td>\n",
              "      <td>255</td>\n",
              "      <td>187</td>\n",
              "      <td>255</td>\n",
              "      <td>0</td>\n",
              "    </tr>\n",
              "    <tr>\n",
              "      <th>3</th>\n",
              "      <td>Germany</td>\n",
              "      <td>YN8639</td>\n",
              "      <td>28</td>\n",
              "      <td>5.95</td>\n",
              "      <td>3.95</td>\n",
              "      <td>0.663866</td>\n",
              "      <td>2016</td>\n",
              "      <td>0</td>\n",
              "      <td>0</td>\n",
              "      <td>1003.0</td>\n",
              "      <td>...</td>\n",
              "      <td>regular</td>\n",
              "      <td>xxs,xs,s,m,l,xl,xxl</td>\n",
              "      <td>kids</td>\n",
              "      <td>205</td>\n",
              "      <td>140</td>\n",
              "      <td>149</td>\n",
              "      <td>164</td>\n",
              "      <td>211</td>\n",
              "      <td>238</td>\n",
              "      <td>0</td>\n",
              "    </tr>\n",
              "    <tr>\n",
              "      <th>4</th>\n",
              "      <td>Germany</td>\n",
              "      <td>YN8639</td>\n",
              "      <td>28</td>\n",
              "      <td>5.95</td>\n",
              "      <td>3.95</td>\n",
              "      <td>0.663866</td>\n",
              "      <td>2016</td>\n",
              "      <td>0</td>\n",
              "      <td>0</td>\n",
              "      <td>1003.0</td>\n",
              "      <td>...</td>\n",
              "      <td>regular</td>\n",
              "      <td>xxs,xs,s,m,l,xl,xxl</td>\n",
              "      <td>women</td>\n",
              "      <td>138</td>\n",
              "      <td>43</td>\n",
              "      <td>226</td>\n",
              "      <td>164</td>\n",
              "      <td>211</td>\n",
              "      <td>238</td>\n",
              "      <td>0</td>\n",
              "    </tr>\n",
              "  </tbody>\n",
              "</table>\n",
              "<p>5 rows × 24 columns</p>\n",
              "</div>\n",
              "      <button class=\"colab-df-convert\" onclick=\"convertToInteractive('df-cffaddd4-47bc-4aee-9a90-80a8b1678ad6')\"\n",
              "              title=\"Convert this dataframe to an interactive table.\"\n",
              "              style=\"display:none;\">\n",
              "        \n",
              "  <svg xmlns=\"http://www.w3.org/2000/svg\" height=\"24px\"viewBox=\"0 0 24 24\"\n",
              "       width=\"24px\">\n",
              "    <path d=\"M0 0h24v24H0V0z\" fill=\"none\"/>\n",
              "    <path d=\"M18.56 5.44l.94 2.06.94-2.06 2.06-.94-2.06-.94-.94-2.06-.94 2.06-2.06.94zm-11 1L8.5 8.5l.94-2.06 2.06-.94-2.06-.94L8.5 2.5l-.94 2.06-2.06.94zm10 10l.94 2.06.94-2.06 2.06-.94-2.06-.94-.94-2.06-.94 2.06-2.06.94z\"/><path d=\"M17.41 7.96l-1.37-1.37c-.4-.4-.92-.59-1.43-.59-.52 0-1.04.2-1.43.59L10.3 9.45l-7.72 7.72c-.78.78-.78 2.05 0 2.83L4 21.41c.39.39.9.59 1.41.59.51 0 1.02-.2 1.41-.59l7.78-7.78 2.81-2.81c.8-.78.8-2.07 0-2.86zM5.41 20L4 18.59l7.72-7.72 1.47 1.35L5.41 20z\"/>\n",
              "  </svg>\n",
              "      </button>\n",
              "      \n",
              "  <style>\n",
              "    .colab-df-container {\n",
              "      display:flex;\n",
              "      flex-wrap:wrap;\n",
              "      gap: 12px;\n",
              "    }\n",
              "\n",
              "    .colab-df-convert {\n",
              "      background-color: #E8F0FE;\n",
              "      border: none;\n",
              "      border-radius: 50%;\n",
              "      cursor: pointer;\n",
              "      display: none;\n",
              "      fill: #1967D2;\n",
              "      height: 32px;\n",
              "      padding: 0 0 0 0;\n",
              "      width: 32px;\n",
              "    }\n",
              "\n",
              "    .colab-df-convert:hover {\n",
              "      background-color: #E2EBFA;\n",
              "      box-shadow: 0px 1px 2px rgba(60, 64, 67, 0.3), 0px 1px 3px 1px rgba(60, 64, 67, 0.15);\n",
              "      fill: #174EA6;\n",
              "    }\n",
              "\n",
              "    [theme=dark] .colab-df-convert {\n",
              "      background-color: #3B4455;\n",
              "      fill: #D2E3FC;\n",
              "    }\n",
              "\n",
              "    [theme=dark] .colab-df-convert:hover {\n",
              "      background-color: #434B5C;\n",
              "      box-shadow: 0px 1px 3px 1px rgba(0, 0, 0, 0.15);\n",
              "      filter: drop-shadow(0px 1px 2px rgba(0, 0, 0, 0.3));\n",
              "      fill: #FFFFFF;\n",
              "    }\n",
              "  </style>\n",
              "\n",
              "      <script>\n",
              "        const buttonEl =\n",
              "          document.querySelector('#df-cffaddd4-47bc-4aee-9a90-80a8b1678ad6 button.colab-df-convert');\n",
              "        buttonEl.style.display =\n",
              "          google.colab.kernel.accessAllowed ? 'block' : 'none';\n",
              "\n",
              "        async function convertToInteractive(key) {\n",
              "          const element = document.querySelector('#df-cffaddd4-47bc-4aee-9a90-80a8b1678ad6');\n",
              "          const dataTable =\n",
              "            await google.colab.kernel.invokeFunction('convertToInteractive',\n",
              "                                                     [key], {});\n",
              "          if (!dataTable) return;\n",
              "\n",
              "          const docLinkHtml = 'Like what you see? Visit the ' +\n",
              "            '<a target=\"_blank\" href=https://colab.research.google.com/notebooks/data_table.ipynb>data table notebook</a>'\n",
              "            + ' to learn more about interactive tables.';\n",
              "          element.innerHTML = '';\n",
              "          dataTable['output_type'] = 'display_data';\n",
              "          await google.colab.output.renderOutput(dataTable, element);\n",
              "          const docLink = document.createElement('div');\n",
              "          docLink.innerHTML = docLinkHtml;\n",
              "          element.appendChild(docLink);\n",
              "        }\n",
              "      </script>\n",
              "    </div>\n",
              "  </div>\n",
              "  "
            ]
          },
          "metadata": {},
          "execution_count": 30
        }
      ]
    },
    {
      "cell_type": "code",
      "source": [
        "df.columns"
      ],
      "metadata": {
        "colab": {
          "base_uri": "https://localhost:8080/"
        },
        "id": "pjzsdRBy5DA5",
        "outputId": "3043fb96-ef82-4f01-f1ba-26abf5cf00c5"
      },
      "execution_count": 31,
      "outputs": [
        {
          "output_type": "execute_result",
          "data": {
            "text/plain": [
              "Index(['country', 'article', 'sales', 'regular_price', 'current_price',\n",
              "       'ratio', 'retailweek', 'promo1', 'promo2', 'customer_id', 'article.1',\n",
              "       'productgroup', 'category', 'cost', 'style', 'sizes', 'gender',\n",
              "       'rgb_r_main_col', 'rgb_g_main_col', 'rgb_b_main_col', 'rgb_r_sec_col',\n",
              "       'rgb_g_sec_col', 'rgb_b_sec_col', 'label'],\n",
              "      dtype='object')"
            ]
          },
          "metadata": {},
          "execution_count": 31
        }
      ]
    },
    {
      "cell_type": "code",
      "source": [
        "df.info()"
      ],
      "metadata": {
        "colab": {
          "base_uri": "https://localhost:8080/"
        },
        "id": "U_6J5Yjj8Igb",
        "outputId": "685df337-fa6f-43e8-c9a0-176fb17724d0"
      },
      "execution_count": 39,
      "outputs": [
        {
          "output_type": "stream",
          "name": "stdout",
          "text": [
            "<class 'pandas.core.frame.DataFrame'>\n",
            "Int64Index: 100000 entries, 0 to 99999\n",
            "Data columns (total 15 columns):\n",
            " #   Column          Non-Null Count   Dtype  \n",
            "---  ------          --------------   -----  \n",
            " 0   country         100000 non-null  object \n",
            " 1   sales           100000 non-null  int64  \n",
            " 2   ratio           100000 non-null  float64\n",
            " 3   retailweek      100000 non-null  int64  \n",
            " 4   productgroup    100000 non-null  object \n",
            " 5   category        100000 non-null  object \n",
            " 6   cost            100000 non-null  float64\n",
            " 7   style           100000 non-null  object \n",
            " 8   rgb_r_main_col  100000 non-null  int64  \n",
            " 9   rgb_g_main_col  100000 non-null  int64  \n",
            " 10  rgb_b_main_col  100000 non-null  int64  \n",
            " 11  rgb_r_sec_col   100000 non-null  int64  \n",
            " 12  rgb_g_sec_col   100000 non-null  int64  \n",
            " 13  rgb_b_sec_col   100000 non-null  int64  \n",
            " 14  label           100000 non-null  int64  \n",
            "dtypes: float64(2), int64(9), object(4)\n",
            "memory usage: 14.2+ MB\n"
          ]
        }
      ]
    },
    {
      "cell_type": "code",
      "source": [
        "df=df[['country','sales','ratio','retailweek','productgroup','category','cost','style','rgb_r_main_col', 'rgb_g_main_col', 'rgb_b_main_col', 'rgb_r_sec_col',\n",
        "       'rgb_g_sec_col', 'rgb_b_sec_col', 'label']]"
      ],
      "metadata": {
        "id": "Zb1JDqze3jnB"
      },
      "execution_count": 79,
      "outputs": []
    },
    {
      "cell_type": "code",
      "source": [
        "from sklearn.preprocessing import LabelEncoder\n",
        "df.info()"
      ],
      "metadata": {
        "colab": {
          "base_uri": "https://localhost:8080/"
        },
        "id": "UyLRObEH5Qp3",
        "outputId": "97a6c482-0210-4c18-fb3d-58dfed0d1a1c"
      },
      "execution_count": 80,
      "outputs": [
        {
          "output_type": "stream",
          "name": "stdout",
          "text": [
            "<class 'pandas.core.frame.DataFrame'>\n",
            "Int64Index: 100000 entries, 0 to 99999\n",
            "Data columns (total 15 columns):\n",
            " #   Column          Non-Null Count   Dtype  \n",
            "---  ------          --------------   -----  \n",
            " 0   country         100000 non-null  int64  \n",
            " 1   sales           100000 non-null  int64  \n",
            " 2   ratio           100000 non-null  float64\n",
            " 3   retailweek      100000 non-null  int64  \n",
            " 4   productgroup    100000 non-null  int64  \n",
            " 5   category        100000 non-null  int64  \n",
            " 6   cost            100000 non-null  float64\n",
            " 7   style           100000 non-null  int64  \n",
            " 8   rgb_r_main_col  100000 non-null  int64  \n",
            " 9   rgb_g_main_col  100000 non-null  int64  \n",
            " 10  rgb_b_main_col  100000 non-null  int64  \n",
            " 11  rgb_r_sec_col   100000 non-null  int64  \n",
            " 12  rgb_g_sec_col   100000 non-null  int64  \n",
            " 13  rgb_b_sec_col   100000 non-null  int64  \n",
            " 14  label           100000 non-null  int64  \n",
            "dtypes: float64(2), int64(13)\n",
            "memory usage: 14.2 MB\n"
          ]
        }
      ]
    },
    {
      "cell_type": "code",
      "source": [
        "cags=['country','productgroup','category','style']\n",
        "for i in cags:\n",
        "  enc=LabelEncoder()\n",
        "  df[i]=enc.fit_transform(df[i])"
      ],
      "metadata": {
        "id": "DtMQZ-mx9Y2T"
      },
      "execution_count": 81,
      "outputs": []
    },
    {
      "cell_type": "code",
      "source": [
        "pip install imblearn\n"
      ],
      "metadata": {
        "colab": {
          "base_uri": "https://localhost:8080/"
        },
        "id": "ILH86jsR_F07",
        "outputId": "d3df9072-7ff2-4692-b1d5-82f3b7d8e797"
      },
      "execution_count": 85,
      "outputs": [
        {
          "output_type": "stream",
          "name": "stdout",
          "text": [
            "Looking in indexes: https://pypi.org/simple, https://us-python.pkg.dev/colab-wheels/public/simple/\n",
            "Requirement already satisfied: imblearn in /usr/local/lib/python3.9/dist-packages (0.0)\n",
            "Requirement already satisfied: imbalanced-learn in /usr/local/lib/python3.9/dist-packages (from imblearn) (0.10.1)\n",
            "Requirement already satisfied: scikit-learn>=1.0.2 in /usr/local/lib/python3.9/dist-packages (from imbalanced-learn->imblearn) (1.2.2)\n",
            "Requirement already satisfied: joblib>=1.1.1 in /usr/local/lib/python3.9/dist-packages (from imbalanced-learn->imblearn) (1.1.1)\n",
            "Requirement already satisfied: scipy>=1.3.2 in /usr/local/lib/python3.9/dist-packages (from imbalanced-learn->imblearn) (1.10.1)\n",
            "Requirement already satisfied: numpy>=1.17.3 in /usr/local/lib/python3.9/dist-packages (from imbalanced-learn->imblearn) (1.22.4)\n",
            "Requirement already satisfied: threadpoolctl>=2.0.0 in /usr/local/lib/python3.9/dist-packages (from imbalanced-learn->imblearn) (3.1.0)\n"
          ]
        }
      ]
    },
    {
      "cell_type": "code",
      "source": [
        "estimator = obj.fit(data, targets)\n"
      ],
      "metadata": {
        "id": "0BYub8gT_2hm"
      },
      "execution_count": null,
      "outputs": []
    },
    {
      "cell_type": "code",
      "source": [],
      "metadata": {
        "colab": {
          "base_uri": "https://localhost:8080/",
          "height": 131
        },
        "id": "UQNhL0x7Af06",
        "outputId": "4e63af42-3928-4349-f788-973a1a46417a"
      },
      "execution_count": 84,
      "outputs": [
        {
          "output_type": "error",
          "ename": "SyntaxError",
          "evalue": "ignored",
          "traceback": [
            "\u001b[0;36m  File \u001b[0;32m\"<ipython-input-84-9ac2776163af>\"\u001b[0;36m, line \u001b[0;32m1\u001b[0m\n\u001b[0;31m    import imbalanced-learn\u001b[0m\n\u001b[0m                     ^\u001b[0m\n\u001b[0;31mSyntaxError\u001b[0m\u001b[0;31m:\u001b[0m invalid syntax\n"
          ]
        }
      ]
    },
    {
      "cell_type": "code",
      "source": [
        "from imblearn.over_sampling import RandomOverSampler\n",
        "oversample = RandomOverSampler(sampling_strategy='minority')\n",
        "x_over, y_over = oversample.fit_resample(X, Y)\n"
      ],
      "metadata": {
        "id": "lXSO7mdAAKMR"
      },
      "execution_count": 88,
      "outputs": []
    },
    {
      "cell_type": "code",
      "source": [
        "x_over"
      ],
      "metadata": {
        "colab": {
          "base_uri": "https://localhost:8080/",
          "height": 487
        },
        "id": "BOyGC4CFA-Qp",
        "outputId": "d5ec1a8a-6dfa-41b7-a4a5-08b4dcd2a5d4"
      },
      "execution_count": 93,
      "outputs": [
        {
          "output_type": "execute_result",
          "data": {
            "text/plain": [
              "        country  sales     ratio  retailweek  productgroup  category   cost  \\\n",
              "0             2     28  0.663866        2016             1         5  13.29   \n",
              "1             2     28  0.663866        2016             2         5   2.29   \n",
              "2             2     28  0.663866        2016             0         1   1.70   \n",
              "3             2     28  0.663866        2016             1         4   9.00   \n",
              "4             2     28  0.663866        2016             1         3   9.60   \n",
              "...         ...    ...       ...         ...           ...       ...    ...   \n",
              "172139        1      3  0.722094        2015             0         4   1.29   \n",
              "172140        1      1  0.982441        2016             1         4   9.00   \n",
              "172141        2     24  0.650392        2015             0         4   1.29   \n",
              "172142        1     54  0.757208        2017             3         5   4.20   \n",
              "172143        1      8  0.708029        2016             1         3   9.60   \n",
              "\n",
              "        style  rgb_r_main_col  rgb_g_main_col  rgb_b_main_col  rgb_r_sec_col  \\\n",
              "0           1             205             104              57            255   \n",
              "1           0             188             238             104            255   \n",
              "2           0             205             173               0            255   \n",
              "3           0             205             140             149            164   \n",
              "4           0             138              43             226            164   \n",
              "...       ...             ...             ...             ...            ...   \n",
              "172139      1             181             181             181            205   \n",
              "172140      0             205             140             149            164   \n",
              "172141      1             181             181             181            205   \n",
              "172142      2              79             148             205            164   \n",
              "172143      0             138              43             226            164   \n",
              "\n",
              "        rgb_g_sec_col  rgb_b_sec_col  \n",
              "0                 187            255  \n",
              "1                 187            255  \n",
              "2                 187            255  \n",
              "3                 211            238  \n",
              "4                 211            238  \n",
              "...               ...            ...  \n",
              "172139            155            155  \n",
              "172140            211            238  \n",
              "172141            155            155  \n",
              "172142            211            238  \n",
              "172143            211            238  \n",
              "\n",
              "[172144 rows x 14 columns]"
            ],
            "text/html": [
              "\n",
              "  <div id=\"df-2fd51485-8c72-4058-8f25-a403d458e7d3\">\n",
              "    <div class=\"colab-df-container\">\n",
              "      <div>\n",
              "<style scoped>\n",
              "    .dataframe tbody tr th:only-of-type {\n",
              "        vertical-align: middle;\n",
              "    }\n",
              "\n",
              "    .dataframe tbody tr th {\n",
              "        vertical-align: top;\n",
              "    }\n",
              "\n",
              "    .dataframe thead th {\n",
              "        text-align: right;\n",
              "    }\n",
              "</style>\n",
              "<table border=\"1\" class=\"dataframe\">\n",
              "  <thead>\n",
              "    <tr style=\"text-align: right;\">\n",
              "      <th></th>\n",
              "      <th>country</th>\n",
              "      <th>sales</th>\n",
              "      <th>ratio</th>\n",
              "      <th>retailweek</th>\n",
              "      <th>productgroup</th>\n",
              "      <th>category</th>\n",
              "      <th>cost</th>\n",
              "      <th>style</th>\n",
              "      <th>rgb_r_main_col</th>\n",
              "      <th>rgb_g_main_col</th>\n",
              "      <th>rgb_b_main_col</th>\n",
              "      <th>rgb_r_sec_col</th>\n",
              "      <th>rgb_g_sec_col</th>\n",
              "      <th>rgb_b_sec_col</th>\n",
              "    </tr>\n",
              "  </thead>\n",
              "  <tbody>\n",
              "    <tr>\n",
              "      <th>0</th>\n",
              "      <td>2</td>\n",
              "      <td>28</td>\n",
              "      <td>0.663866</td>\n",
              "      <td>2016</td>\n",
              "      <td>1</td>\n",
              "      <td>5</td>\n",
              "      <td>13.29</td>\n",
              "      <td>1</td>\n",
              "      <td>205</td>\n",
              "      <td>104</td>\n",
              "      <td>57</td>\n",
              "      <td>255</td>\n",
              "      <td>187</td>\n",
              "      <td>255</td>\n",
              "    </tr>\n",
              "    <tr>\n",
              "      <th>1</th>\n",
              "      <td>2</td>\n",
              "      <td>28</td>\n",
              "      <td>0.663866</td>\n",
              "      <td>2016</td>\n",
              "      <td>2</td>\n",
              "      <td>5</td>\n",
              "      <td>2.29</td>\n",
              "      <td>0</td>\n",
              "      <td>188</td>\n",
              "      <td>238</td>\n",
              "      <td>104</td>\n",
              "      <td>255</td>\n",
              "      <td>187</td>\n",
              "      <td>255</td>\n",
              "    </tr>\n",
              "    <tr>\n",
              "      <th>2</th>\n",
              "      <td>2</td>\n",
              "      <td>28</td>\n",
              "      <td>0.663866</td>\n",
              "      <td>2016</td>\n",
              "      <td>0</td>\n",
              "      <td>1</td>\n",
              "      <td>1.70</td>\n",
              "      <td>0</td>\n",
              "      <td>205</td>\n",
              "      <td>173</td>\n",
              "      <td>0</td>\n",
              "      <td>255</td>\n",
              "      <td>187</td>\n",
              "      <td>255</td>\n",
              "    </tr>\n",
              "    <tr>\n",
              "      <th>3</th>\n",
              "      <td>2</td>\n",
              "      <td>28</td>\n",
              "      <td>0.663866</td>\n",
              "      <td>2016</td>\n",
              "      <td>1</td>\n",
              "      <td>4</td>\n",
              "      <td>9.00</td>\n",
              "      <td>0</td>\n",
              "      <td>205</td>\n",
              "      <td>140</td>\n",
              "      <td>149</td>\n",
              "      <td>164</td>\n",
              "      <td>211</td>\n",
              "      <td>238</td>\n",
              "    </tr>\n",
              "    <tr>\n",
              "      <th>4</th>\n",
              "      <td>2</td>\n",
              "      <td>28</td>\n",
              "      <td>0.663866</td>\n",
              "      <td>2016</td>\n",
              "      <td>1</td>\n",
              "      <td>3</td>\n",
              "      <td>9.60</td>\n",
              "      <td>0</td>\n",
              "      <td>138</td>\n",
              "      <td>43</td>\n",
              "      <td>226</td>\n",
              "      <td>164</td>\n",
              "      <td>211</td>\n",
              "      <td>238</td>\n",
              "    </tr>\n",
              "    <tr>\n",
              "      <th>...</th>\n",
              "      <td>...</td>\n",
              "      <td>...</td>\n",
              "      <td>...</td>\n",
              "      <td>...</td>\n",
              "      <td>...</td>\n",
              "      <td>...</td>\n",
              "      <td>...</td>\n",
              "      <td>...</td>\n",
              "      <td>...</td>\n",
              "      <td>...</td>\n",
              "      <td>...</td>\n",
              "      <td>...</td>\n",
              "      <td>...</td>\n",
              "      <td>...</td>\n",
              "    </tr>\n",
              "    <tr>\n",
              "      <th>172139</th>\n",
              "      <td>1</td>\n",
              "      <td>3</td>\n",
              "      <td>0.722094</td>\n",
              "      <td>2015</td>\n",
              "      <td>0</td>\n",
              "      <td>4</td>\n",
              "      <td>1.29</td>\n",
              "      <td>1</td>\n",
              "      <td>181</td>\n",
              "      <td>181</td>\n",
              "      <td>181</td>\n",
              "      <td>205</td>\n",
              "      <td>155</td>\n",
              "      <td>155</td>\n",
              "    </tr>\n",
              "    <tr>\n",
              "      <th>172140</th>\n",
              "      <td>1</td>\n",
              "      <td>1</td>\n",
              "      <td>0.982441</td>\n",
              "      <td>2016</td>\n",
              "      <td>1</td>\n",
              "      <td>4</td>\n",
              "      <td>9.00</td>\n",
              "      <td>0</td>\n",
              "      <td>205</td>\n",
              "      <td>140</td>\n",
              "      <td>149</td>\n",
              "      <td>164</td>\n",
              "      <td>211</td>\n",
              "      <td>238</td>\n",
              "    </tr>\n",
              "    <tr>\n",
              "      <th>172141</th>\n",
              "      <td>2</td>\n",
              "      <td>24</td>\n",
              "      <td>0.650392</td>\n",
              "      <td>2015</td>\n",
              "      <td>0</td>\n",
              "      <td>4</td>\n",
              "      <td>1.29</td>\n",
              "      <td>1</td>\n",
              "      <td>181</td>\n",
              "      <td>181</td>\n",
              "      <td>181</td>\n",
              "      <td>205</td>\n",
              "      <td>155</td>\n",
              "      <td>155</td>\n",
              "    </tr>\n",
              "    <tr>\n",
              "      <th>172142</th>\n",
              "      <td>1</td>\n",
              "      <td>54</td>\n",
              "      <td>0.757208</td>\n",
              "      <td>2017</td>\n",
              "      <td>3</td>\n",
              "      <td>5</td>\n",
              "      <td>4.20</td>\n",
              "      <td>2</td>\n",
              "      <td>79</td>\n",
              "      <td>148</td>\n",
              "      <td>205</td>\n",
              "      <td>164</td>\n",
              "      <td>211</td>\n",
              "      <td>238</td>\n",
              "    </tr>\n",
              "    <tr>\n",
              "      <th>172143</th>\n",
              "      <td>1</td>\n",
              "      <td>8</td>\n",
              "      <td>0.708029</td>\n",
              "      <td>2016</td>\n",
              "      <td>1</td>\n",
              "      <td>3</td>\n",
              "      <td>9.60</td>\n",
              "      <td>0</td>\n",
              "      <td>138</td>\n",
              "      <td>43</td>\n",
              "      <td>226</td>\n",
              "      <td>164</td>\n",
              "      <td>211</td>\n",
              "      <td>238</td>\n",
              "    </tr>\n",
              "  </tbody>\n",
              "</table>\n",
              "<p>172144 rows × 14 columns</p>\n",
              "</div>\n",
              "      <button class=\"colab-df-convert\" onclick=\"convertToInteractive('df-2fd51485-8c72-4058-8f25-a403d458e7d3')\"\n",
              "              title=\"Convert this dataframe to an interactive table.\"\n",
              "              style=\"display:none;\">\n",
              "        \n",
              "  <svg xmlns=\"http://www.w3.org/2000/svg\" height=\"24px\"viewBox=\"0 0 24 24\"\n",
              "       width=\"24px\">\n",
              "    <path d=\"M0 0h24v24H0V0z\" fill=\"none\"/>\n",
              "    <path d=\"M18.56 5.44l.94 2.06.94-2.06 2.06-.94-2.06-.94-.94-2.06-.94 2.06-2.06.94zm-11 1L8.5 8.5l.94-2.06 2.06-.94-2.06-.94L8.5 2.5l-.94 2.06-2.06.94zm10 10l.94 2.06.94-2.06 2.06-.94-2.06-.94-.94-2.06-.94 2.06-2.06.94z\"/><path d=\"M17.41 7.96l-1.37-1.37c-.4-.4-.92-.59-1.43-.59-.52 0-1.04.2-1.43.59L10.3 9.45l-7.72 7.72c-.78.78-.78 2.05 0 2.83L4 21.41c.39.39.9.59 1.41.59.51 0 1.02-.2 1.41-.59l7.78-7.78 2.81-2.81c.8-.78.8-2.07 0-2.86zM5.41 20L4 18.59l7.72-7.72 1.47 1.35L5.41 20z\"/>\n",
              "  </svg>\n",
              "      </button>\n",
              "      \n",
              "  <style>\n",
              "    .colab-df-container {\n",
              "      display:flex;\n",
              "      flex-wrap:wrap;\n",
              "      gap: 12px;\n",
              "    }\n",
              "\n",
              "    .colab-df-convert {\n",
              "      background-color: #E8F0FE;\n",
              "      border: none;\n",
              "      border-radius: 50%;\n",
              "      cursor: pointer;\n",
              "      display: none;\n",
              "      fill: #1967D2;\n",
              "      height: 32px;\n",
              "      padding: 0 0 0 0;\n",
              "      width: 32px;\n",
              "    }\n",
              "\n",
              "    .colab-df-convert:hover {\n",
              "      background-color: #E2EBFA;\n",
              "      box-shadow: 0px 1px 2px rgba(60, 64, 67, 0.3), 0px 1px 3px 1px rgba(60, 64, 67, 0.15);\n",
              "      fill: #174EA6;\n",
              "    }\n",
              "\n",
              "    [theme=dark] .colab-df-convert {\n",
              "      background-color: #3B4455;\n",
              "      fill: #D2E3FC;\n",
              "    }\n",
              "\n",
              "    [theme=dark] .colab-df-convert:hover {\n",
              "      background-color: #434B5C;\n",
              "      box-shadow: 0px 1px 3px 1px rgba(0, 0, 0, 0.15);\n",
              "      filter: drop-shadow(0px 1px 2px rgba(0, 0, 0, 0.3));\n",
              "      fill: #FFFFFF;\n",
              "    }\n",
              "  </style>\n",
              "\n",
              "      <script>\n",
              "        const buttonEl =\n",
              "          document.querySelector('#df-2fd51485-8c72-4058-8f25-a403d458e7d3 button.colab-df-convert');\n",
              "        buttonEl.style.display =\n",
              "          google.colab.kernel.accessAllowed ? 'block' : 'none';\n",
              "\n",
              "        async function convertToInteractive(key) {\n",
              "          const element = document.querySelector('#df-2fd51485-8c72-4058-8f25-a403d458e7d3');\n",
              "          const dataTable =\n",
              "            await google.colab.kernel.invokeFunction('convertToInteractive',\n",
              "                                                     [key], {});\n",
              "          if (!dataTable) return;\n",
              "\n",
              "          const docLinkHtml = 'Like what you see? Visit the ' +\n",
              "            '<a target=\"_blank\" href=https://colab.research.google.com/notebooks/data_table.ipynb>data table notebook</a>'\n",
              "            + ' to learn more about interactive tables.';\n",
              "          element.innerHTML = '';\n",
              "          dataTable['output_type'] = 'display_data';\n",
              "          await google.colab.output.renderOutput(dataTable, element);\n",
              "          const docLink = document.createElement('div');\n",
              "          docLink.innerHTML = docLinkHtml;\n",
              "          element.appendChild(docLink);\n",
              "        }\n",
              "      </script>\n",
              "    </div>\n",
              "  </div>\n",
              "  "
            ]
          },
          "metadata": {},
          "execution_count": 93
        }
      ]
    },
    {
      "cell_type": "code",
      "source": [
        "y_over.value_counts()"
      ],
      "metadata": {
        "colab": {
          "base_uri": "https://localhost:8080/"
        },
        "id": "zEOtb0iDAwPm",
        "outputId": "6576297b-c6a4-43cd-c6f1-c69af7a28fcb"
      },
      "execution_count": 91,
      "outputs": [
        {
          "output_type": "execute_result",
          "data": {
            "text/plain": [
              "0    86072\n",
              "1    86072\n",
              "Name: label, dtype: int64"
            ]
          },
          "metadata": {},
          "execution_count": 91
        }
      ]
    },
    {
      "cell_type": "code",
      "source": [
        "from sklearn.model_selection import train_test_split\n",
        "X_train,X_test,Y_train,Y_test=train_test_split(x_over,y_over,test_size=0.2,random_state=4)"
      ],
      "metadata": {
        "id": "r6WoJc_v-nj2"
      },
      "execution_count": 92,
      "outputs": []
    },
    {
      "cell_type": "code",
      "source": [
        "from sklearn.tree import DecisionTreeClassifier\n",
        "DTC=DecisionTreeClassifier()\n",
        "DTC.fit(X_train,Y_train)"
      ],
      "metadata": {
        "colab": {
          "base_uri": "https://localhost:8080/",
          "height": 74
        },
        "id": "YouS83rr-41K",
        "outputId": "26c735ec-30f2-4222-c69e-0119fd2f04fd"
      },
      "execution_count": 97,
      "outputs": [
        {
          "output_type": "execute_result",
          "data": {
            "text/plain": [
              "DecisionTreeClassifier()"
            ],
            "text/html": [
              "<style>#sk-container-id-1 {color: black;background-color: white;}#sk-container-id-1 pre{padding: 0;}#sk-container-id-1 div.sk-toggleable {background-color: white;}#sk-container-id-1 label.sk-toggleable__label {cursor: pointer;display: block;width: 100%;margin-bottom: 0;padding: 0.3em;box-sizing: border-box;text-align: center;}#sk-container-id-1 label.sk-toggleable__label-arrow:before {content: \"▸\";float: left;margin-right: 0.25em;color: #696969;}#sk-container-id-1 label.sk-toggleable__label-arrow:hover:before {color: black;}#sk-container-id-1 div.sk-estimator:hover label.sk-toggleable__label-arrow:before {color: black;}#sk-container-id-1 div.sk-toggleable__content {max-height: 0;max-width: 0;overflow: hidden;text-align: left;background-color: #f0f8ff;}#sk-container-id-1 div.sk-toggleable__content pre {margin: 0.2em;color: black;border-radius: 0.25em;background-color: #f0f8ff;}#sk-container-id-1 input.sk-toggleable__control:checked~div.sk-toggleable__content {max-height: 200px;max-width: 100%;overflow: auto;}#sk-container-id-1 input.sk-toggleable__control:checked~label.sk-toggleable__label-arrow:before {content: \"▾\";}#sk-container-id-1 div.sk-estimator input.sk-toggleable__control:checked~label.sk-toggleable__label {background-color: #d4ebff;}#sk-container-id-1 div.sk-label input.sk-toggleable__control:checked~label.sk-toggleable__label {background-color: #d4ebff;}#sk-container-id-1 input.sk-hidden--visually {border: 0;clip: rect(1px 1px 1px 1px);clip: rect(1px, 1px, 1px, 1px);height: 1px;margin: -1px;overflow: hidden;padding: 0;position: absolute;width: 1px;}#sk-container-id-1 div.sk-estimator {font-family: monospace;background-color: #f0f8ff;border: 1px dotted black;border-radius: 0.25em;box-sizing: border-box;margin-bottom: 0.5em;}#sk-container-id-1 div.sk-estimator:hover {background-color: #d4ebff;}#sk-container-id-1 div.sk-parallel-item::after {content: \"\";width: 100%;border-bottom: 1px solid gray;flex-grow: 1;}#sk-container-id-1 div.sk-label:hover label.sk-toggleable__label {background-color: #d4ebff;}#sk-container-id-1 div.sk-serial::before {content: \"\";position: absolute;border-left: 1px solid gray;box-sizing: border-box;top: 0;bottom: 0;left: 50%;z-index: 0;}#sk-container-id-1 div.sk-serial {display: flex;flex-direction: column;align-items: center;background-color: white;padding-right: 0.2em;padding-left: 0.2em;position: relative;}#sk-container-id-1 div.sk-item {position: relative;z-index: 1;}#sk-container-id-1 div.sk-parallel {display: flex;align-items: stretch;justify-content: center;background-color: white;position: relative;}#sk-container-id-1 div.sk-item::before, #sk-container-id-1 div.sk-parallel-item::before {content: \"\";position: absolute;border-left: 1px solid gray;box-sizing: border-box;top: 0;bottom: 0;left: 50%;z-index: -1;}#sk-container-id-1 div.sk-parallel-item {display: flex;flex-direction: column;z-index: 1;position: relative;background-color: white;}#sk-container-id-1 div.sk-parallel-item:first-child::after {align-self: flex-end;width: 50%;}#sk-container-id-1 div.sk-parallel-item:last-child::after {align-self: flex-start;width: 50%;}#sk-container-id-1 div.sk-parallel-item:only-child::after {width: 0;}#sk-container-id-1 div.sk-dashed-wrapped {border: 1px dashed gray;margin: 0 0.4em 0.5em 0.4em;box-sizing: border-box;padding-bottom: 0.4em;background-color: white;}#sk-container-id-1 div.sk-label label {font-family: monospace;font-weight: bold;display: inline-block;line-height: 1.2em;}#sk-container-id-1 div.sk-label-container {text-align: center;}#sk-container-id-1 div.sk-container {/* jupyter's `normalize.less` sets `[hidden] { display: none; }` but bootstrap.min.css set `[hidden] { display: none !important; }` so we also need the `!important` here to be able to override the default hidden behavior on the sphinx rendered scikit-learn.org. See: https://github.com/scikit-learn/scikit-learn/issues/21755 */display: inline-block !important;position: relative;}#sk-container-id-1 div.sk-text-repr-fallback {display: none;}</style><div id=\"sk-container-id-1\" class=\"sk-top-container\"><div class=\"sk-text-repr-fallback\"><pre>DecisionTreeClassifier()</pre><b>In a Jupyter environment, please rerun this cell to show the HTML representation or trust the notebook. <br />On GitHub, the HTML representation is unable to render, please try loading this page with nbviewer.org.</b></div><div class=\"sk-container\" hidden><div class=\"sk-item\"><div class=\"sk-estimator sk-toggleable\"><input class=\"sk-toggleable__control sk-hidden--visually\" id=\"sk-estimator-id-1\" type=\"checkbox\" checked><label for=\"sk-estimator-id-1\" class=\"sk-toggleable__label sk-toggleable__label-arrow\">DecisionTreeClassifier</label><div class=\"sk-toggleable__content\"><pre>DecisionTreeClassifier()</pre></div></div></div></div></div>"
            ]
          },
          "metadata": {},
          "execution_count": 97
        }
      ]
    },
    {
      "cell_type": "code",
      "source": [
        "DTC.score(X_test,Y_test)"
      ],
      "metadata": {
        "colab": {
          "base_uri": "https://localhost:8080/"
        },
        "id": "zfqUfMY2_LoG",
        "outputId": "b5a5eda5-de7f-4cba-82d1-3e09c4119396"
      },
      "execution_count": 100,
      "outputs": [
        {
          "output_type": "execute_result",
          "data": {
            "text/plain": [
              "0.9340091202184205"
            ]
          },
          "metadata": {},
          "execution_count": 100
        }
      ]
    },
    {
      "cell_type": "code",
      "source": [
        "import matplotlib.pyplot as plt\n",
        "import itertools\n",
        "def plot_confusion_matrix(cm, classes,\n",
        "                          normalize=False,\n",
        "                          title='Confusion matrix',\n",
        "                          cmap=plt.cm.Blues):\n",
        "   \n",
        "    plt.imshow(cm, interpolation='nearest', cmap=cmap)\n",
        "    plt.title(title)\n",
        "    plt.colorbar()\n",
        "    tick_marks = np.arange(len(classes))\n",
        "    plt.xticks(tick_marks, classes, rotation=45)\n",
        "    plt.yticks(tick_marks, classes)\n",
        "\n",
        "    if normalize:\n",
        "        cm = cm.astype('float') / cm.sum(axis=1)[:, np.newaxis]\n",
        "\n",
        "    thresh = cm.max() / 2.\n",
        "    for i, j in itertools.product(range(cm.shape[0]), range(cm.shape[1])):\n",
        "        plt.text(j, i, cm[i, j],\n",
        "                 horizontalalignment=\"center\",\n",
        "                 color=\"white\" if cm[i, j] > thresh else \"black\")\n",
        "\n",
        "    plt.tight_layout()\n",
        "    plt.ylabel('True label')\n",
        "    plt.xlabel('Predicted label')\n",
        "def plot_confusion_matrix(cm, classes,\n",
        "                          normalize=False,\n",
        "                          title='Confusion matrix',\n",
        "                          cmap=plt.cm.Blues):\n",
        "  \n",
        "    plt.imshow(cm, interpolation='nearest', cmap=cmap)\n",
        "    plt.title(title)\n",
        "    plt.colorbar()\n",
        "    tick_marks = np.arange(len(classes))\n",
        "    plt.xticks(tick_marks, classes, rotation=45)\n",
        "    plt.yticks(tick_marks, classes)\n",
        "\n",
        "    if normalize:\n",
        "        cm = cm.astype('float') / cm.sum(axis=1)[:, np.newaxis]\n",
        "\n",
        "    thresh = cm.max() / 2.\n",
        "    for i, j in itertools.product(range(cm.shape[0]), range(cm.shape[1])):\n",
        "        plt.text(j, i, cm[i, j],\n",
        "                 horizontalalignment=\"center\",\n",
        "                 color=\"white\" if cm[i, j] > thresh else \"black\")\n",
        "\n",
        "    plt.tight_layout()\n",
        "    plt.ylabel('True label')\n",
        "    plt.xlabel('Predicted label')"
      ],
      "metadata": {
        "id": "NVJkpnqVBaEt"
      },
      "execution_count": 101,
      "outputs": []
    },
    {
      "cell_type": "code",
      "source": [
        "y_pred=DTC.predict(X_test)"
      ],
      "metadata": {
        "id": "iGJd8_mfETri"
      },
      "execution_count": 104,
      "outputs": []
    },
    {
      "cell_type": "code",
      "source": [
        "from sklearn.metrics import confusion_matrix\n",
        "import numpy as np\n",
        "confusion_mtx = confusion_matrix(Y_test, y_pred) \n",
        "print(confusion_mtx)\n",
        "plot_confusion_matrix(confusion_mtx, classes = range(2))"
      ],
      "metadata": {
        "colab": {
          "base_uri": "https://localhost:8080/",
          "height": 346
        },
        "id": "NxuqWQM-EKwk",
        "outputId": "3e0e13e1-1ad0-4bef-f676-b7f1655f4a01"
      },
      "execution_count": 106,
      "outputs": [
        {
          "output_type": "stream",
          "name": "stdout",
          "text": [
            "[[15023  2188]\n",
            " [   84 17134]]\n"
          ]
        },
        {
          "output_type": "display_data",
          "data": {
            "text/plain": [
              "<Figure size 432x288 with 2 Axes>"
            ],
            "image/png": "[encoded data removed]"
          },
          "metadata": {
            "needs_background": "light"
          }
        }
      ]
    },
    {
      "cell_type": "code",
      "source": [],
      "metadata": {
        "id": "WvdMk3P8EOkF"
      },
      "execution_count": null,
      "outputs": []
    }
  ]
}